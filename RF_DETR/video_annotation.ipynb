{
 "nbformat": 4,
 "nbformat_minor": 0,
 "metadata": {
  "colab": {
   "provenance": [],
   "machine_shape": "hm",
   "gpuType": "A100"
  },
  "kernelspec": {
   "name": "python3",
   "display_name": "Python 3"
  },
  "language_info": {
   "name": "python"
  },
  "accelerator": "GPU"
 },
 "cells": [
  {
   "cell_type": "code",
   "source": [
    "!pip install -q \\\n",
    "    torch==2.1.0 torchvision==0.16.1 \\\n",
    "    pillow opencv-python moviepy tqdm supervision\n",
    "\n",
    "!git clone --depth 1 https://github.com/roboflow/rf-detr.git\n",
    "%cd rf-detr\n",
    "!pip install -q -e .\n",
    "%cd ..\n",
    "\n",
    "print(\"✅ RF-DETR установлен\")"
   ],
   "metadata": {
    "colab": {
     "base_uri": "https://localhost:8080/"
    },
    "id": "J4HyPAaK8_Yd",
    "outputId": "ab31166c-4ec4-4f35-8bb6-7ed56c68797d"
   },
   "outputs": [],
   "execution_count": null
  },
  {
   "cell_type": "markdown",
   "source": [
    "----"
   ],
   "metadata": {
    "id": "DBH30nYl_OA2"
   }
  },
  {
   "metadata": {},
   "cell_type": "code",
   "outputs": [],
   "execution_count": null,
   "source": [
    "from google.colab import drive, files\n",
    "import torch, cv2, os\n",
    "import numpy as np\n",
    "from tqdm.auto import tqdm\n",
    "from rfdetr import RFDETRBase\n",
    "import pathlib, sys\n"
   ]
  },
  {
   "cell_type": "code",
   "source": [
    "drive.mount('/content/drive')\n",
    "\n",
    "WEIGHTS_PATH = '/content/drive/MyDrive/Colab Notebooks/rf_detr_803.pt'\n",
    "\n",
    "assert pathlib.Path(WEIGHTS_PATH).is_file(), f\"❌ Файл не найден: {WEIGHTS_PATH}\"\n",
    "print(\"Чекпойнт найден\")\n"
   ],
   "metadata": {
    "colab": {
     "base_uri": "https://localhost:8080/"
    },
    "id": "N0KDtYMN8_WX",
    "outputId": "7d230658-ba6e-423d-a4ef-869583323e16"
   },
   "outputs": [],
   "execution_count": null
  },
  {
   "cell_type": "markdown",
   "source": [
    "----"
   ],
   "metadata": {
    "id": "xA90iWOc_O1r"
   }
  },
  {
   "cell_type": "code",
   "source": [
    "device_str = 'cuda' if torch.cuda.is_available() else 'cpu'\n",
    "print(f\"Используем устройство: {device_str}\")"
   ],
   "metadata": {
    "colab": {
     "base_uri": "https://localhost:8080/"
    },
    "id": "jPn6MX5g-BA_",
    "outputId": "cde498fd-e2e2-4849-992a-38ec7f9b132c"
   },
   "outputs": [],
   "execution_count": null
  },
  {
   "cell_type": "markdown",
   "source": [
    "----"
   ],
   "metadata": {
    "id": "JU0yhPnm_P2U"
   }
  },
  {
   "cell_type": "code",
   "source": [
    "device_str = 'cuda' if torch.cuda.is_available() else 'cpu'\n",
    "\n",
    "model = RFDETRBase(\n",
    "    pretrain_weights = WEIGHTS_PATH,\n",
    "    device           = device_str\n",
    ")\n",
    "\n",
    "CLASSES  = {1: 'foul'}\n",
    "SCORE_TH = 0.5\n",
    "print(\" Модель загружена — готова к predict()\")\n"
   ],
   "metadata": {
    "colab": {
     "base_uri": "https://localhost:8080/"
    },
    "id": "U2GJtqtk-A_J",
    "outputId": "1a7d7d43-9c0e-47e9-8caf-d855e179db66"
   },
   "outputs": [],
   "execution_count": null
  },
  {
   "cell_type": "markdown",
   "source": [
    "----"
   ],
   "metadata": {
    "id": "TAJOZixP_TTW"
   }
  },
  {
   "cell_type": "code",
   "source": "model.optimize_for_inference()",
   "metadata": {
    "collapsed": true,
    "colab": {
     "base_uri": "https://localhost:8080/"
    },
    "id": "evIAOLot--Jg",
    "outputId": "18059882-d541-4d9b-f400-7d7468531b7e"
   },
   "execution_count": 5,
   "outputs": [
    {
     "output_type": "stream",
     "name": "stderr",
     "text": [
      "`loss_type=None` was set in the config but it is unrecognised.Using the default loss: `ForCausalLMLoss`.\n",
      "TracerWarning: Converting a tensor to a Python boolean might cause the trace to be incorrect. We can't record the data flow of Python values, so this value will be treated as a constant in the future. This means that the trace might not generalize to other inputs!\n",
      "TracerWarning: Converting a tensor to a Python boolean might cause the trace to be incorrect. We can't record the data flow of Python values, so this value will be treated as a constant in the future. This means that the trace might not generalize to other inputs!\n",
      "TracerWarning: Converting a tensor to a Python boolean might cause the trace to be incorrect. We can't record the data flow of Python values, so this value will be treated as a constant in the future. This means that the trace might not generalize to other inputs!\n",
      "TracerWarning: torch.as_tensor results are registered as constants in the trace. You can safely ignore this warning if you use this function to create tensors out of constant variables that would be the same every time you call this function. In any other case, this might cause the trace to be incorrect.\n",
      "TracerWarning: Iterating over a tensor might cause the trace to be incorrect. Passing a tensor of different shape won't change the number of iterations executed (and might lead to errors or silently give incorrect results).\n",
      "TracerWarning: torch.tensor results are registered as constants in the trace. You can safely ignore this warning if you use this function to create tensors out of constant variables that would be the same every time you call this function. In any other case, this might cause the trace to be incorrect.\n",
      "TracerWarning: torch.tensor results are registered as constants in the trace. You can safely ignore this warning if you use this function to create tensors out of constant variables that would be the same every time you call this function. In any other case, this might cause the trace to be incorrect.\n",
      "UserWarning: torch.meshgrid: in an upcoming release, it will be required to pass the indexing argument. (Triggered internally at /pytorch/aten/src/ATen/native/TensorShape.cpp:3637.)\n",
      "TracerWarning: Converting a tensor to a Python boolean might cause the trace to be incorrect. We can't record the data flow of Python values, so this value will be treated as a constant in the future. This means that the trace might not generalize to other inputs!\n",
      "TracerWarning: Converting a tensor to a Python boolean might cause the trace to be incorrect. We can't record the data flow of Python values, so this value will be treated as a constant in the future. This means that the trace might not generalize to other inputs!\n",
      "TracerWarning: Converting a tensor to a Python boolean might cause the trace to be incorrect. We can't record the data flow of Python values, so this value will be treated as a constant in the future. This means that the trace might not generalize to other inputs!\n",
      "TracerWarning: Converting a tensor to a Python boolean might cause the trace to be incorrect. We can't record the data flow of Python values, so this value will be treated as a constant in the future. This means that the trace might not generalize to other inputs!\n",
      "TracerWarning: Converting a tensor to a Python boolean might cause the trace to be incorrect. We can't record the data flow of Python values, so this value will be treated as a constant in the future. This means that the trace might not generalize to other inputs!\n",
      "TracerWarning: Converting a tensor to a Python boolean might cause the trace to be incorrect. We can't record the data flow of Python values, so this value will be treated as a constant in the future. This means that the trace might not generalize to other inputs!\n",
      "TracerWarning: Iterating over a tensor might cause the trace to be incorrect. Passing a tensor of different shape won't change the number of iterations executed (and might lead to errors or silently give incorrect results).\n",
      "TracerWarning: Iterating over a tensor might cause the trace to be incorrect. Passing a tensor of different shape won't change the number of iterations executed (and might lead to errors or silently give incorrect results).\n"
     ]
    }
   ]
  },
  {
   "cell_type": "markdown",
   "source": [
    "----"
   ],
   "metadata": {
    "id": "Jb5hONPm_UHL"
   }
  },
  {
   "cell_type": "code",
   "source": [
    "print(\"Выберите локальный .mp4\")\n",
    "up = files.upload()\n",
    "assert len(up) == 1, \"Загрузите ровно один файл!\"\n",
    "in_name = next(iter(up))\n",
    "in_path = f\"/content/{in_name}\"\n",
    "print(f\"Видео загружено: {in_path}\")\n"
   ],
   "metadata": {
    "colab": {
     "base_uri": "https://localhost:8080/",
     "height": 109
    },
    "id": "CvirAK26-A9D",
    "outputId": "652bebee-312d-42c0-b09d-4abb4addaf87"
   },
   "outputs": [],
   "execution_count": null
  },
  {
   "cell_type": "markdown",
   "source": [
    "----"
   ],
   "metadata": {
    "id": "JbmJCIQS_U93"
   }
  },
  {
   "cell_type": "code",
   "source": [
    "cap = cv2.VideoCapture(in_path)\n",
    "fps = cap.get(cv2.CAP_PROP_FPS) or 25\n",
    "w   = int(cap.get(cv2.CAP_PROP_FRAME_WIDTH))\n",
    "h   = int(cap.get(cv2.CAP_PROP_FRAME_HEIGHT))\n",
    "\n",
    "fourcc = cv2.VideoWriter_fourcc(*\"mp4v\")\n",
    "out_path = in_path.replace(\".mp4\", \"_annotated.mp4\")\n",
    "writer   = cv2.VideoWriter(out_path, fourcc, fps, (w, h))\n",
    "\n",
    "print(f\"✅ FPS={fps:.1f}, размер={w}×{h}; выход: {out_path}\")\n"
   ],
   "metadata": {
    "colab": {
     "base_uri": "https://localhost:8080/"
    },
    "id": "v2ulsVBY-A7O",
    "outputId": "8f96a043-cfbf-472d-95bf-c434edfc1228"
   },
   "execution_count": 7,
   "outputs": [
    {
     "output_type": "stream",
     "name": "stdout",
     "text": [
      "✅ FPS=59.9, размер=1920×1080; выход: /content/foull_annotated.mp4\n"
     ]
    }
   ]
  },
  {
   "cell_type": "markdown",
   "source": [
    "----"
   ],
   "metadata": {
    "id": "OEydGXIN_V8o"
   }
  },
  {
   "cell_type": "code",
   "source": [
    "from tqdm.auto import tqdm\n",
    "import cv2\n",
    "\n",
    "total_frames = int(cap.get(cv2.CAP_PROP_FRAME_COUNT)) or None\n",
    "pbar = tqdm(total=total_frames, desc=\"Processing\")\n",
    "\n",
    "while True:\n",
    "    ok, frame_bgr = cap.read()\n",
    "    if not ok:\n",
    "        break\n",
    "\n",
    "    frame_rgb = cv2.cvtColor(frame_bgr, cv2.COLOR_BGR2RGB)\n",
    "\n",
    "\n",
    "    detections = model.predict(frame_rgb, conf_thres=SCORE_TH)\n",
    "\n",
    "    for xyxy, conf, cid in zip(detections.xyxy,\n",
    "                               detections.confidence,\n",
    "                               detections.class_id):\n",
    "        if cid != 1:\n",
    "            continue\n",
    "        x1, y1, x2, y2 = map(int, xyxy)\n",
    "        cv2.rectangle(frame_bgr, (x1, y1), (x2, y2), (0, 0, 255), 2)\n",
    "        cv2.putText(frame_bgr, f\"foul {conf:.2f}\", (x1, y1 - 10),\n",
    "                    cv2.FONT_HERSHEY_SIMPLEX, 0.6, (0, 0, 255), 2)\n",
    "\n",
    "    writer.write(frame_bgr)\n",
    "    pbar.update(1)\n",
    "\n",
    "pbar.close()\n",
    "cap.release(); writer.release()\n",
    "print(f\"Аннотированное видео сохранено: {out_path}\")\n"
   ],
   "metadata": {
    "colab": {
     "base_uri": "https://localhost:8080/",
     "height": 67,
     "referenced_widgets": [
      "3ff90020d6b24173a901c973c6f88d6d",
      "4afc347880ef4490ba74a7afeb59ef01",
      "9083c564b0d64d9cbbf5fc372cbac879",
      "98eabba1188142f9852cc6cb61403e99",
      "49e85e133812486cba69583b44ddb336",
      "5144f38579d94a9d8874f6b744063d8c",
      "19e0b8df214241a4808d976b6550c4b1",
      "7c336cf263414520b1c548a079ea569a",
      "d0c4560ef81b4fd38e5f2891fbc7fdad",
      "7dabf637f3614d4da238350163f6f600",
      "872ce1527c2c4b7eaf056377a94b262f"
     ]
    },
    "id": "J7jW1DRw_Ew6",
    "outputId": "cdc40e87-65f1-4405-d0c8-340f8489374b"
   },
   "execution_count": 8,
   "outputs": [
    {
     "output_type": "display_data",
     "data": {
      "text/plain": [
       "Processing:   0%|          | 0/501 [00:00<?, ?it/s]"
      ],
      "application/vnd.jupyter.widget-view+json": {
       "version_major": 2,
       "version_minor": 0,
       "model_id": "3ff90020d6b24173a901c973c6f88d6d"
      }
     },
     "metadata": {}
    },
    {
     "output_type": "stream",
     "name": "stdout",
     "text": [
      "✅ Аннотированное видео сохранено: /content/foull_annotated.mp4\n"
     ]
    }
   ]
  },
  {
   "cell_type": "markdown",
   "source": [
    "----"
   ],
   "metadata": {
    "id": "N_7DiOrP_W3w"
   }
  }
 ]
}
