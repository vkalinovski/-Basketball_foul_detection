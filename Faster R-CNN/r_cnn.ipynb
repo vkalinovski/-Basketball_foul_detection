{
 "cells": [
  {
   "metadata": {},
   "cell_type": "code",
   "outputs": [],
   "execution_count": null,
   "source": [
    "!pip install -q kaggle torchmetrics pytorchvideo opencv-python tqdm\n",
    "\n",
    "import torch, random, cv2\n",
    "from pathlib import Path\n",
    "from torch.utils.data import Dataset\n",
    "import torchvision.transforms.functional as TF\n",
    "from torchvision.transforms import ColorJitter\n",
    "import torchvision\n",
    "from torchvision.models.detection.faster_rcnn import FastRCNNPredictor\n",
    "import numpy as np\n",
    "import os, shutil, subprocess, warnings, random, json, gc, time\n",
    "from pathlib import Path\n",
    "import numpy as np, torch, cv2\n",
    "from sklearn.model_selection import train_test_split\n",
    "from torch.optim.swa_utils import AveragedModel, SWALR\n",
    "from torchmetrics.detection.mean_ap import MeanAveragePrecision\n",
    "from tqdm.auto import tqdm\n",
    "from pathlib import Path\n",
    "import torch, random, os\n",
    "from torch.utils.data import DataLoader, WeightedRandomSampler\n",
    "from torch.optim.swa_utils import AveragedModel, SWALR, update_bn\n",
    "from torchmetrics.detection.mean_ap import MeanAveragePrecision\n",
    "from torch.amp import GradScaler, autocast          \n",
    "from tqdm.auto import tqdm\n",
    "\n",
    "import torch.multiprocessing as mp\n",
    "mp.set_start_method('spawn', force=True)\n",
    "\n",
    "\n",
    "from google.colab import drive\n",
    "drive.mount('/content/drive', force_remount=True)\n",
    "\n",
    "\n",
    "BASE_DIR  = Path('/content/drive/MyDrive/Colab Notebooks')\n",
    "DATA_DIR  = BASE_DIR/'Foul_Detection_test'; DATA_DIR.mkdir(exist_ok=True)\n",
    "CKPT_DIR  = DATA_DIR/'checkpoints';          CKPT_DIR.mkdir(exist_ok=True)\n",
    "SEEN_TXT  = DATA_DIR/'seen_videos.txt';      SEEN_TXT.touch(exist_ok=True)\n",
    "\n",
    "DEVICE      = torch.device('cuda' if torch.cuda.is_available() else 'cpu')\n",
    "SEED        = 42\n",
    "random.seed(SEED); np.random.seed(SEED); torch.manual_seed(SEED)"
   ]
  },
  {
   "cell_type": "code",
   "metadata": {
    "colab": {
     "base_uri": "https://localhost:8080/"
    },
    "id": "3YwI8lbjTAQz",
    "outputId": "b72b6326-cfa0-45fc-b014-5442ef2b5468"
   },
   "source": [
    "\n",
    "BASE_DIR  = Path('/content/drive/MyDrive/Colab Notebooks')\n",
    "DATA_DIR  = BASE_DIR/'Foul_Detection_test'; DATA_DIR.mkdir(exist_ok=True)\n",
    "CKPT_DIR  = DATA_DIR/'checkpoints';          CKPT_DIR.mkdir(exist_ok=True)\n",
    "SEEN_TXT  = DATA_DIR/'seen_videos.txt';      SEEN_TXT.touch(exist_ok=True)\n",
    "\n",
    "DEVICE      = torch.device('cuda' if torch.cuda.is_available() else 'cpu')\n",
    "SEED        = 42\n",
    "random.seed(SEED); np.random.seed(SEED); torch.manual_seed(SEED)\n",
    "\n",
    "KAG_JSON = BASE_DIR/'kaggle.json'\n",
    "if KAG_JSON.exists():\n",
    "    os.makedirs(Path.home()/'.kaggle', exist_ok=True)\n",
    "    shutil.copy(KAG_JSON, Path.home()/'.kaggle/kaggle.json')\n",
    "    os.chmod(Path.home()/'.kaggle/kaggle.json', 0o600)\n",
    "else: warnings.warn('kaggle.json not found in Colab Notebooks')\n",
    "\n",
    "DATASET='sesmlhs/foul-detection-test'\n",
    "subprocess.run(['kaggle','datasets','download','-d',DATASET,\n",
    "                '-p',str(DATA_DIR),'--unzip','-q','--force'], check=True)\n",
    "\n",
    "mp4s  = list(DATA_DIR.rglob('*.mp4'))\n",
    "jsons = list(DATA_DIR.rglob('*.json'))\n",
    "print(f'✅ dataset ready  →  {len(mp4s)} mp4   |   {len(jsons)} json')\n"
   ],
   "outputs": [],
   "execution_count": null
  },
  {
   "cell_type": "code",
   "metadata": {
    "colab": {
     "base_uri": "https://localhost:8080/"
    },
    "id": "Qx-8E6aLTAOu",
    "outputId": "a42a7384-7082-497e-87b8-b841524ccec1"
   },
   "source": [
    "import json\n",
    "from pprint import pprint\n",
    "\n",
    "\n",
    "with open(jsons[0]) as f: raw = json.load(f)\n",
    "items = raw[\"root\"] if isinstance(raw, dict) and \"root\" in raw else raw\n",
    "\n",
    "def pct_bbox(cx,cy,w,h):\n",
    "    cx,cy,w,h=[v/100 for v in (cx,cy,w,h)]\n",
    "    return [cx-w/2, cy-h/2, cx+w/2, cy+h/2]\n",
    "\n",
    "video_annotations = {}          \n",
    "for e in items:\n",
    "    base = e[\"file_upload\"].split('-',1)[-1]\n",
    "    fmap = {}\n",
    "    for ann in e[\"annotations\"]:\n",
    "        for res in ann[\"result\"]:\n",
    "            if res[\"type\"] != \"videorectangle\": continue\n",
    "            for step in res[\"value\"][\"sequence\"]:\n",
    "                if not step.get(\"enabled\", True): continue\n",
    "                frame = step[\"frame\"]\n",
    "                bbox  = pct_bbox(step[\"x\"], step[\"y\"],\n",
    "                                 step[\"width\"], step[\"height\"])\n",
    "                fmap[frame] = bbox\n",
    "    video_annotations[base] = fmap       \n",
    "\n",
    "disk = {p.name for p in mp4s}\n",
    "common, only_json, only_disk = (\n",
    "    sorted(disk & video_annotations.keys()),\n",
    "    sorted(video_annotations.keys() - disk),\n",
    "    sorted(disk - video_annotations.keys())\n",
    ")\n",
    "pos_cnt = sum(bool(video_annotations[f]) for f in common)\n",
    "\n",
    "print(\"Summary\")\n",
    "print(f\" • mp4 on disk ............... {len(disk)}\")\n",
    "print(f\" • entries in JSON ........... {len(video_annotations)}\")\n",
    "print(f\" • matched files ............. {len(common)}\")\n",
    "print(f\" •  positives (bbox>0) .... {pos_cnt}\")\n",
    "print(f\" • json∖disk (ignored) ....... {len(only_json)}\")\n",
    "print(f\" • disk∖json (label 0) ....... {len(only_disk)}\")\n",
    "\n",
    "video_paths = [str(p) for p in mp4s if p.name in common]        # only matched\n",
    "video_labels = {str(p): float(bool(video_annotations[p.name]))  # 1 if any bbox\n",
    "                for p in mp4s if p.name in common}\n",
    "\n",
    "print(f\"▶ using {len(video_paths)} videos \"\n",
    "      f\"(pos={pos_cnt}  neg={len(video_paths)-pos_cnt})\")\n"
   ],
   "outputs": [],
   "execution_count": null
  },
  {
   "cell_type": "code",
   "execution_count": 3,
   "metadata": {
    "colab": {
     "base_uri": "https://localhost:8080/"
    },
    "id": "0R0rQSBlTAMY",
    "outputId": "538e2933-e584-4fa6-a895-59174a742bfa"
   },
   "outputs": [
    {
     "name": "stdout",
     "output_type": "stream",
     "text": [
      "📂 Train total ..... 95 (new 95 | seen 0)\n",
      "📂 Val   total ..... 24\n"
     ]
    },
    {
     "data": {
      "text/plain": [
       "1606"
      ]
     },
     "execution_count": 3,
     "metadata": {},
     "output_type": "execute_result"
    }
   ],
   "source": [
    "train_paths, val_paths = train_test_split(\n",
    "    video_paths, test_size=.2,\n",
    "    stratify=[video_labels[p] for p in video_paths], random_state=SEED\n",
    ")\n",
    "\n",
    "seen_set = set(SEEN_TXT.read_text().splitlines())\n",
    "new_train = [p for p in train_paths if p not in seen_set]\n",
    "old_train = [p for p in train_paths if p in seen_set]\n",
    "\n",
    "print(f\"📂 Train total ..... {len(train_paths)} \"\n",
    "      f\"(new {len(new_train)} | seen {len(old_train)})\")\n",
    "print(f\"📂 Val   total ..... {len(val_paths)}\")\n",
    "\n",
    "# save splits (for reproducibility)\n",
    "(DATA_DIR/'train_videos.txt').write_text('\\n'.join(train_paths))\n",
    "(DATA_DIR/'val_videos.txt'  ).write_text('\\n'.join(val_paths))\n"
   ]
  },
  {
   "cell_type": "code",
   "execution_count": 4,
   "metadata": {
    "id": "eZ2SkPGDTAKT"
   },
   "outputs": [],
   "source": [
    "class FrameDataset(Dataset):\n",
    "    def __init__(self, vids, labels, annots, img_size=512, augment=False):\n",
    "        self.vids, self.labels, self.annots = vids, labels, annots\n",
    "        self.size, self.aug = img_size, augment\n",
    "        self.jitter = ColorJitter(.2,.2,.2,.1)\n",
    "\n",
    "    def __len__(self): return len(self.vids)\n",
    "\n",
    "    def _mid_frame(self, cap):\n",
    "        n   = int(cap.get(cv2.CAP_PROP_FRAME_COUNT))\n",
    "        mid = n // 2\n",
    "        cap.set(cv2.CAP_PROP_POS_FRAMES, mid)\n",
    "        ok, fr = cap.read()\n",
    "        return (fr if ok else None), mid\n",
    "\n",
    "    def _rotate_boxes(self, boxes, angle, device):\n",
    "        if not boxes.numel(): return boxes\n",
    "        angle = torch.deg2rad(torch.tensor(angle, device=device))\n",
    "        cx = cy = self.size / 2\n",
    "        rot = torch.tensor([[ angle.cos(), -angle.sin()],\n",
    "                            [ angle.sin(),  angle.cos()]], device=device)\n",
    "        out=[]\n",
    "        for b in boxes:\n",
    "            x1,y1,x2,y2 = b\n",
    "            pts = torch.tensor([[x1,y1],[x2,y1],[x1,y2],[x2,y2]], device=device)\n",
    "            pts = pts - torch.tensor([cx,cy], device=device)\n",
    "            rot_pts = (rot @ pts.T).T + torch.tensor([cx,cy], device=device)\n",
    "            xmn,ymn = rot_pts.min(0).values\n",
    "            xmx,ymx = rot_pts.max(0).values\n",
    "            out.append(torch.stack([xmn,ymn,xmx,ymx]))\n",
    "        return torch.stack(out)\n",
    "\n",
    "    def __getitem__(self, idx):\n",
    "        vp  = self.vids[idx]\n",
    "        lbl = self.labels[idx]\n",
    "\n",
    "        try:\n",
    "            cap = cv2.VideoCapture(vp); fr, mid = self._mid_frame(cap); cap.release()\n",
    "            if fr is None:                       \n",
    "                raise ValueError(\"empty frame\")\n",
    "\n",
    "            fr  = cv2.cvtColor(fr, cv2.COLOR_BGR2RGB)\n",
    "            fr  = cv2.resize(fr, (self.size, self.size))\n",
    "        except Exception as e:\n",
    "            print(f\"[Dataset WARN] {Path(vp).name}: {e}\")\n",
    "            fr = np.zeros((self.size, self.size, 3), dtype=np.uint8)\n",
    "            mid = -1                             \n",
    "\n",
    "        img = torch.from_numpy(fr).permute(2,0,1).float()/255.\n",
    "\n",
    "        \n",
    "        ann_frames = self.annots.get(Path(vp).name, {})\n",
    "        if lbl and mid in ann_frames:\n",
    "            x,y,w,h = torch.tensor(ann_frames[mid]) * (self.size/100)\n",
    "            boxes     = torch.tensor([[x,y,x+w,y+h]], dtype=torch.float32)\n",
    "            tgt_lbls  = torch.ones(1, dtype=torch.int64)\n",
    "        else:\n",
    "            boxes     = torch.zeros((0,4), dtype=torch.float32)\n",
    "            tgt_lbls  = torch.zeros((0,), dtype=torch.int64)\n",
    "\n",
    "        \n",
    "        if self.aug:\n",
    "            img = self.jitter(img)\n",
    "            if random.random()<.5:\n",
    "                img = TF.hflip(img); boxes[:,[0,2]] = self.size - boxes[:,[2,0]]\n",
    "            if random.random()<.3 and boxes.numel():\n",
    "                k=random.choice([3,5]); img = TF.gaussian_blur(img, [k,k])\n",
    "            if random.random()<.3:\n",
    "                ang=random.uniform(-15,15)\n",
    "                img = TF.rotate(img, ang); boxes = self._rotate_boxes(boxes, ang, img.device)\n",
    "\n",
    "        return img, {\"boxes\": boxes, \"labels\": tgt_lbls}\n",
    "\n",
    "def collate_fn(batch):\n",
    "    imgs, tgts = zip(*batch)\n",
    "    return torch.stack(imgs), tgts\n"
   ]
  },
  {
   "cell_type": "code",
   "execution_count": 5,
   "metadata": {
    "colab": {
     "base_uri": "https://localhost:8080/"
    },
    "id": "Gz8VQEZRTAH9",
    "outputId": "04decc8a-4016-48a1-9552-0d8386a62679"
   },
   "outputs": [
    {
     "name": "stdout",
     "output_type": "stream",
     "text": [
      "📐 model params: 41.0 M\n"
     ]
    }
   ],
   "source": [
    "def get_detector(num_classes=2):\n",
    "    model = torchvision.models.detection.fasterrcnn_resnet50_fpn(\n",
    "        weights=\"DEFAULT\", box_nms_thresh=.4)\n",
    "    in_ch = model.roi_heads.box_predictor.cls_score.in_features\n",
    "    model.roi_heads.box_predictor = FastRCNNPredictor(in_ch, num_classes)\n",
    "    return model.to(DEVICE)\n",
    "\n",
    "model = get_detector()\n",
    "print(\"📐 model params:\", sum(p.numel() for p in model.parameters())//1e6, \"M\")\n"
   ]
  },
  {
   "cell_type": "code",
   "execution_count": 6,
   "metadata": {
    "id": "4shVhCvFTAF3"
   },
   "outputs": [],
   "source": [
    "def update_ema(model, ema, decay):\n",
    "    with torch.no_grad():\n",
    "        for p_ema, p in zip(ema.parameters(), model.parameters()):\n",
    "            p_ema.data.mul_(decay).add_(p.data, alpha=1-decay)"
   ]
  },
  {
   "cell_type": "code",
   "execution_count": 7,
   "metadata": {
    "colab": {
     "base_uri": "https://localhost:8080/",
     "height": 1000,
     "referenced_widgets": [
      "255efb0a3a204e529bc6afd097a3a162",
      "d84e42040d114f43bafc685cf49c66e8",
      "3067ea3e94ce4855a914c099eb8373e9",
      "4cbf18cca1fa4ed2b1bda0dd1e49ce0e",
      "fecbcc8f65214cf28e1493b9e3b829d1",
      "850831e3309843fb9b565ef9d6f003da",
      "c4a10b6112544ca788c9e773edf63dbf",
      "85e8e99450d44ab28cf1782932b85199",
      "6ac710bc19884ce392892d353479b1c3",
      "e72134f71ad548e780f92e36bc4e8632",
      "4a181798473648e098d6cf15f1790d23",
      "cfa4d490b6f44d7f9e018d0b23ef046a",
      "4c0a3225eb154709b5a64c20dde2c5bb",
      "2a0ba035ae1942509eb192535caa77c8",
      "cce77c0c5bfb4e0cb35de0940050ae0c",
      "9aea3889f85c471a86d257e450c231aa",
      "a8858f5620c04f8b9d2a58d35c623185",
      "b1a9e17a6d724128a3ba26d41a17abf4",
      "6c6cc8cf8e71487791cea1189cd8733c",
      "6e544a035b144197a0fe3d3d48b98742",
      "35d7f86a27aa4edfb600ddeeb5cd72be",
      "36d77e67f45545a59ddfa034b81fd04d",
      "cd9d0308ff1e4ddc87954789ff6b26f7",
      "d201b8f09b6b48a1b99397f58e990cc0",
      "d476b2eafea34b5387e1df9e2b51457b",
      "218d3f8c60794277b6b8846b5d747c1e",
      "d5ac80c61f9c42cea71c48188b102298",
      "c837123aee2b46c5a5f6186b0a4ed287",
      "2be57dcf6bcd49079f6557eddb9ac788",
      "cfe72f5d6a324507b19619ff71a0dfa8",
      "8dfe213e878f47fab915e0e77fed7b0e",
      "3eae1dedf2f841c1930abfe1ad1f21be",
      "3c500c7bf7414902ac3f093273c207e1",
      "13f9daa8e63c46869d4389915d70586e",
      "c522c10ab51e43bea56b000f536d5adf",
      "0052ca39f4de4b80bc8708cdc1a1e643",
      "11f1d1100a1b4003836041447ccdd5f8",
      "8d31eb69c65d427b83e4d7074c842843",
      "1188c9ffa0bf4e2799088fd7ba4ca067",
      "e89a8436565140119b15dbe311f439d0",
      "b0824ef30de243a18d32c3367721ad04",
      "0b6bc5b166e5411a9d6b116f0f55dda1",
      "3c6a98ba4f734d47b3b4bdf151476cc6",
      "d3f74c578dde424da671795de280671a",
      "8d9e4701def2427985504c925db034ca",
      "c541b52577ab4ad59b90f4fd85636007",
      "7d3d38ce42994b1ebc14734f52a47b10",
      "fba6b5d5219c453fa3c3ecacd810843b",
      "ee17f488a4e7428ea250c81c4aa1142f",
      "6770892391494bf6b431da10c1579e3a",
      "19ef2adac79b495888d28f269c1142a5",
      "357949599e94460bb75bcf1584f6e3e9",
      "3b8268cdf44c4a5f885e106b72346ee2",
      "f1c56ddbef9541a089afeacc47da38d1",
      "3e0764e62cfb42f29c1ec5c55a667daf",
      "fd5679e1af394d92bd695d79e8217c47",
      "74ad7224cefb439bac21fb1435417613",
      "cd506e97f0b54950b8ba2650c29661f5",
      "b3f7787003ca48c7a3b60df2664d25af",
      "9feea5601f7345c3b4c2b8108f23a832",
      "08a780dfd9d140ed9a3babc5d21b5819",
      "2ddb9231286042c29d0491bce03046b2",
      "e9ab8a3df12144fd828f08f24080aef1",
      "2564584078184e64bdca5efd283d4d84",
      "9c82ad228dd84820be04e08aa18457c6",
      "86e79e71bdee4f6a971c412036d6d100",
      "1f81dcec479a4496adaa639a95d11c27",
      "769eb560baa544f4bad8e0717afaaf35",
      "4b895a2d2a874e7fb7ff87869083f83d",
      "f725312a76e544dbb615674a044c1bc2",
      "e7b52b1c41c146fd8ba88753821a543e",
      "1400765bdcb647fbb4a601a1e6e89d88",
      "60970da5eb8a49a3bc893c72229cd66a",
      "77feb966c4a74c569c850466b2289c69",
      "9a9f70d87f914bb89370957e8256efc6",
      "90645a9ec054406a9a9c106992eb48e4",
      "15051788ac89481085f935fd83b67980",
      "fd40efaca18f4a96845acfda0d21369a",
      "b1a516eb25bf4af5aa1f5839e84cdcf6",
      "6512d181189e42d783cad65d28bfd5e6",
      "543662b637be4ae293fd6cf1f8c20a4d",
      "63dd9a453ec343d7ba2e00c2be2983d1",
      "463cefa4dd474f338eaa8ed39195ad2e",
      "46a2a0f7c0e94c88b71a9c887cbadbaa",
      "0d407d2c33444ef58e233b097485a194",
      "f59ad5d9bf084e9391ed2ca9c3fae987",
      "c6c11328e5534cf896d0164fca5d1fa0",
      "49a898ecc21b49d9936ef126d7a4bbae",
      "9ccb79bca4e944c7b2199fc66b8c2ad3",
      "222bca4e6ad24636952de5b39d2056d7",
      "1d82728471014882aec25395ddf717c8",
      "2fedd9c5554249b28167837bc9e40160",
      "ee6926f6eaed4d019fa4cb678d4de88e",
      "e4ca531514bb493a8182c05369cc46df",
      "1eaeaa876078417bb64c7904134ebf6f",
      "de67718163a94a128d29e98fc991bcbd",
      "8e062d2d88d349bea045851b86013c35",
      "07cbe3c22f914c86a9cc506dfb15f75b",
      "c12b059edbf940249e7b74bf80d03edc",
      "589972a7f042462a890cef9ce60cb798",
      "f8b03eee0d254b3eb3255b1182076dbf",
      "93db81e5abb34e7286416cdc7f888c16",
      "1271ba86663949b8a6a88f8381335012",
      "6d7f0e860a5341cea1a825cb79964875",
      "155b41088b46430b96a47aeccdf960a6",
      "0e4f0339ce4546309115239a261b8143",
      "f47e81798ca34ba7bf19ed2e856f5081",
      "b1c0fa86512c46b78c8951c3f1dccc45",
      "b013944a71d04dad8248b4256e1b2dbe",
      "2414035b34fc49d9bf037d603529cb35",
      "e43562ef61754698acce6bb1c9464646",
      "9b74da7fbc7f43ed886af84a852367ca",
      "5020fdc958df4686be3015cf81a17479",
      "6d060f59708b4be4bafdda5e8a8a62ab",
      "e7805a84d6bf4773873c220eb176a90d",
      "48eb7dc1a0374169aa7ecdc4c9b826e0",
      "0497c2131d8e47409b273648264e4ec2",
      "aa5eda04b0c345b1b9097dc46e78fe2e",
      "149ee117ab9646a0a7286cb513be8cad",
      "c44e0b3c731f4014b24642cd4bf918b8",
      "3a53a38e87e2449db854f254b7ba1d6a",
      "ea810df229d547249c50202a4d04797f",
      "3f4f25dea43b4d708137c0ce51643d39",
      "9d6b89ba492c44769ca47e3a85856a3a",
      "1c1714ad6f4349bd830052578a15fe55",
      "e6d6178a491949c789e7449ead96032c",
      "c4567a2ed46f42cc9cf91938024fc70b",
      "d8cc024e69cd4da685ff4470ab05f404",
      "19c6d73199264d5e90637975785b4880",
      "4b4627c4400847a799571e1a5d8155e6",
      "69076ef6d3e34b42ab2571517572f402",
      "44388d70142e4f118ae19eefbfb0e467",
      "6129e90338484a359f9b20a74cfccab4",
      "9907b35c357c4a5f80a7cda3d3ff06c2",
      "486dba0fedd8458dae4a9d6ba8e93b3a",
      "ee50e01c57614fdfbf629e8b4bda0f34",
      "bf944ab556684280b68841885f382ce4",
      "66f351af6c9f4475942ba80f37347e9e",
      "a8156df6f6fc48bcb71adb162d420168",
      "9ea63e27d827437582a6728fc1dbf65e",
      "6e5501161e954f78a0703aabbb8bd08c",
      "d478f76faa684857a5a8f0e72a6eb10a",
      "1468b82e608747a2ae2c266c7fb46c8e",
      "5192c3067348481da30790cabe84f62c",
      "2c83442f892943aaa22338a52020fc13",
      "8dee1e6bce3248f98c247a2b7693ee5e",
      "876e6dbdbcf741d89ee0c8a51b33736c",
      "9042b781f6844094809118c5f8944c4b",
      "cd15f9084e4e46a1962077e93f0cbbf9",
      "1c396caf301e418cba0e41eb64724083",
      "3e368e266dd24158a0ee8edaeeaf452c",
      "afab2ccd70b8423e823c3d6803de7fd6",
      "85518b153e554b95a351550938b10b7e",
      "5bd867042cb24491b99e9b0913251282",
      "e6920cb9248e4f1eaf3cade41a683f9d",
      "e0bcd92509024c568dad8b44a199630b",
      "a3d80de3c4644d9e85c952f700159beb",
      "9bc33ecd58214f108c4645913ac61005",
      "a1681cd67c344d6bbea8eb3a07478299",
      "5f1e2fcc8d764b94883cf36be2f494d0",
      "e2e8791cff7142769f415982663c5930",
      "06f6854304964425828314bdae8faabe",
      "03e5a2043d88405891d91301b18dc943",
      "e541f129826e451bb819da4dfeb1085d",
      "8d08bf0e892e4a58966550b7f85b9b7a",
      "8102680a3a0145c0a9bb6eec7ca05faa",
      "e7723144410f43708d6dc7d50889f73b",
      "23a552a1f2bc493699d764f3c8b00b5c",
      "c1b36394ce014d14a4bf0576e5124017",
      "fa0ce957d2744cc88d39704bbd7fc808",
      "af117f5420c74d06bbefa5e48b95b51f",
      "3f94b947bfea4df5a2581c8db4344399",
      "acbb802902f8405c949098f7dca95365",
      "7c00f05390b14f43a39053fe18626c40",
      "ff418b1f22c74e12beaa239cfb3b1877",
      "53a4b68f051b425080fae57ad8002ef4",
      "27d82dfbb36a4b1da0c4c01fcd969434",
      "0bc5a0d0782a4c0ebbe18f5a6abc7c7c",
      "d4066dd6e0a04853a2afe8495f3dd368",
      "b3251b1526104e5eaadb0fad21440152",
      "ea327f55463d46e297e8a42db58355a9",
      "5a59ac30b6634a2f834838584d2797a5",
      "2c064dfbe8284022a3daae26caa2227a",
      "80e24a3d65ee40aba2a5e2aec01d2c85",
      "3a1ba742317e407490b53c684487f6df",
      "02a96b5e776f4a7d9541deb228075d2f",
      "d2ea949afcb44da0bef9041eca06c3fb",
      "3e57212b1cf148b6940a4517d13a5935",
      "2b2fe5c3542143009785ac9dce476d55",
      "94d75941b9a84015a7639994f3c3ab32",
      "1c46772f7fc74b5883e47db97f1ea537",
      "44ff8859bab9486a8b968ada6f8645e4",
      "7ef5b301c11542a1bdd9c49b3ef58ebb",
      "387cc27a59a844a5bf1d9da8f5af0cf5",
      "8f70f2ce6ec940bdb8fd0e922b4347e7",
      "9666b6890a674ea5a3af8b943b0fa1ba",
      "a28150ad9709453c87265b0a678db8ec",
      "37da18d2484c4836a00bdc6f6b486bf9",
      "0af7e2ab603a4885b968f8aa02a2539e",
      "202c90a4310747c4b4d44150a935a1e5",
      "5149e76eff464e10a8dbcb34e48a5a07",
      "ae633d5b2c52415fb1f5aeac13f095e2",
      "205aebad76304b0cba92544503f3c3a8",
      "43b55786e92c46cd8ae8dc0e6b79176a",
      "c83ea7291cc44b348166e7f536ca4ffc",
      "7a9a580bff6a45afa60b36b812aa3fbe",
      "57c0106bbf5247d5afdf4bf466dc7c0d",
      "fa9c4161fd4b4e1999e5347eb60d2760",
      "ed5b7953f1a64546ad06f247cf3a05be",
      "76bb4af9356b42a8b8e86297865adbff",
      "99a06f57a1c641f4bd7c12d003ab6d85",
      "6a9c117d50f84f4983c48dd7632c945e",
      "d8a4b52e4aa843eb815ac0ee0792cf90",
      "ba8be1c6b39242109b103a3188729893",
      "2e227de1d2824d078917792b1d0cefd8",
      "3419bcb6dc1146dc84e6adb74f92bda9",
      "a6d5cff3088b420395c6e82337e572b8",
      "fa5f1b6150cf403ebc04bc8f3f72eebd",
      "7f919b540c7444059a1ffc3e8fa11845",
      "f8f01ccf19d041ad90b53619be85b609",
      "a49210e8e772453a9a659a19f0c2ad6b",
      "fa8bd1a8fd544afc94b731b33e72d9cc",
      "429da330fa124525b554d38ba25fa8ae",
      "c2f9527004f541d6aaa856ed4d6d7ba3",
      "ba8ff7fe50744f988b5c65abc070d55b",
      "3d148d039ccb47ed956e65252ab3445b",
      "f4f742c62daf412b8b1565cc8434aa3b",
      "4f111b3fad034d0da7ed770659a1ed83",
      "1ecea783ce494015b2883bfc8c889aaf",
      "ffa134ff2d204f049a658adf26f22056",
      "ee142dec307d4d2caa263112c4576176",
      "eefeb68bf4d04e9ca642ca6be2426471",
      "6511072da9c240dc899b79789f74908f",
      "a12e93e293f146d28cb9fdb79ab3f4e8",
      "b1ee537a17304621bab88bd695f86918",
      "33c6db780f354154bfe1ae4ca0a53b73",
      "90d5118772b447d18226c068d9df6bd0",
      "930a27e239dc4dd3bc4c3da2c3b377f1",
      "29d3a47fa33f4edcaf04113434836db3",
      "a8680f1d2712497eb1277b897cd4b2f4",
      "a19b452c70a345ea98e4c8134e1eab66",
      "c8b16c08788842278d200d768eaea4a2",
      "4e239e92eee047bc9f70bba86518ed23",
      "aff21bbd1778433494f7b80a059dc4c2",
      "c0a4a96615274b62bbaf25bf7a487be2",
      "c5f724068e03496884ca92c109d211fe",
      "76b4980ae2224a60aedbb110a271dda0",
      "a96b9912a86243fdb4b2a8759142325c",
      "48fabe4bd250451889c5c61b05892586",
      "40baad77490441158ae0a042825430ab",
      "5f269e64819c4967bf7a90a0345c153d",
      "b9f5cc6669114872b6e9e62b82f848f2",
      "05d4044166e74cfe8e35a0e625579488",
      "9b824587a2ce4569b67d838a7c1a930d",
      "1b6f4552561048b69bce4a22fa1ac912",
      "dee84468be40446fa24282cd1d6901d2",
      "24a301bf46e54f4790abbbb0cb6f5677",
      "43a17bf2be944138940eed7be1aa37f3",
      "8dd1fa26d2b641298218eb33c3953720",
      "0af62ea2926643e6aeaaba259e6e4aac",
      "c381448542e949fa9cec0bb2471595cc",
      "51a0d599be1f4716af2f3a51694a4075",
      "00ca27cc951a40d8b3bd4e4343391254",
      "b8a5a6cc3d1e4f788fe7eda2249d1fb2",
      "ef86a1cc4ec24f178978bfdd442781e2",
      "0139484cd0944c9f82393e9ffc613825",
      "c32f67715a674556b800cba0de3dd04e",
      "55e1b9b5c608440f877cd0254a109e0e",
      "571d6319970c47f7a83c63f40bc991f7",
      "9e0a57e7e03e496cbc22f7324f8a8e2b",
      "832a8b06aba14df3bf2b2482acf73879",
      "512acea50dd240f897e432d1186cb875",
      "a7b0ff387c1c4a9082f74c41a9f8f97b",
      "0b37d9f7b58342ae85059e6fa2212aad",
      "1b446cd070784c348581ffdf2c8de24f",
      "73f3ee9be25b4cccbd5ea3b1c4152ae7",
      "e88de5fb3fd643b79ab630325743b642",
      "e69258a2a1d54c9185ca7ed5194db096",
      "f68987ea1aa04ee5a53da2a8bfe24b60",
      "be20b4ecab5c4315b15684c05f7ddfdc",
      "2dbe4cda935b4d0a92cf5a126ca28056",
      "0b4bae0a2a8b43ab9b3dd392671c6c47",
      "f3215f5ea18249bd94b12a1f98d5eef9",
      "df4ee4fef97a4d9f9b3bb7b97577ed54",
      "ba32997006dc4e24961548704c153991",
      "bf9d7c48850d4d82af26fa14a52b8677",
      "ff38b43c8db04d4a8d850f88918ea769",
      "e66244fd93124c81a0b2522712ad100b",
      "aa48209177eb47b6ade81e01889907a1",
      "730275e22d08430994e34dc15605d527",
      "46bb931432104940b564b4848f6c9ac4",
      "e62640ed895a4ba4a6f8a73918dc855f",
      "b047e9a160d64746a78f826085c2573a",
      "901e83c614794a3eb44c4125706040b8",
      "79738426143242788844aa871d537f02",
      "331966f08ebf4cad92f508d4d1157872",
      "31d837d4d7f84a3182695f0a4a588a5c",
      "9796a4e8368b4a47b31a178bed374c72",
      "7115c4aefec94a41b5387a6714aa9f06",
      "c7361a27b79a43089517fe3c4b60d515",
      "91e67304eb58450ba92d0a6277ffed26",
      "1b8b9f9301b4452b92d62826a4d6c62b",
      "4f4bf40d28504b0e945b64b8cb8d3d9d",
      "681fa5cbf24b479e89203071aa744564",
      "fd58d2a8cb454bafbe01f5ffa53adcef",
      "840af9ad42b84ed7a13c883e71c48a82",
      "29cb6917f8434606942e99327fe8a916",
      "22a4476fffcd434ea5d69fa1851b086c",
      "91540530df3645df8a6365615e899047",
      "b7d81fbd9ee54a86948c7bb3954e0129",
      "3c5c5541fefe443fbab9c32dfcb9a658",
      "35d2b0a0ce244643af04b2e6dd668454",
      "941a98b4828c47d0a1aa71b9904953fd",
      "16f4f037b21241918deace7c9d8277c6",
      "5a00106292f749a8ac31e836a0a1d5ca",
      "8da6a08adeba4af285e58599f4ddc92f",
      "e2bce08d0d2c4af78df003b1213043de",
      "7ba56c26132d46e284147c33e8500159",
      "56c54a0e60e1492183673dd485aced1b",
      "51332b93c4bd45cebc5dbd299ea94c97",
      "6341130746c841b9bd14bddc357cb955",
      "6ddc1befab70451c89402e740b9761bc",
      "feb98846fc3a4c26a789ce8f0df91d7e",
      "3e2882a1952d4a46b66ee13b9c77d3e8",
      "a37d9994183e45679d497c4f5d13ba2d",
      "6076ad2b502c42caad917b30a9f25e3c",
      "af7b2201c09d4d7b8154e603f61f9539",
      "63f8f58fdeac4ec2964ed6a9a3519f2b",
      "e1aaae5772f14bbe87db0617392da999",
      "63a9e143690e409aa5073c59ecae6562",
      "3648971a81b343d79bee90b2f4ac7de5",
      "24960cefb87b456eaae92e188026819a",
      "2457ba2ebbf44f3a83c635e80f669047",
      "f1e9518eca42469b9f532015227963c4",
      "caabb5da43de42ff921026889cbca0f2",
      "a5abf24a55c5412a9096dcae117b7a0a",
      "81dba010e22c487c8b9f989386194dae",
      "dcebb23369234696a569972bbb12e5c9",
      "77ce01bd1f674136a9e5f6fb34869c5e",
      "c6a65d1edf3343319464fadc5aaf6989",
      "84a0d6ddfc63461f98d08e74048125b6",
      "c09ddee9d669453188acfffa91d99cab",
      "914185ccaf3c47059173f8dd5df6ac6d",
      "473ca2a5cf3f48fda1ac739b229dff94",
      "85fa9dd2e7de46d68465e2066fbcf46f",
      "4af53a1680044a128156152b4c2ff9e4",
      "4bfe86b6ae724fea824630b83080c6e1",
      "ab955734834f4014ac0f99252cdf94db",
      "52b7d42f804b42babc34674671b9331a",
      "92bfffc61c0b416a8ce9a6851d7c9237",
      "76831a6a30ec462b86b1822699e0335b",
      "f989243c2fc44fbe965994f46ec15b13",
      "f3fda5c1c27c419c953a26dae09d02cb",
      "f9d943764ae743a3961a2dd7e838b8ed",
      "8c058e284ecd47818e2430fcc9cb1342",
      "09f41286524e43a9b1e2f1dc6bf078e9",
      "56548d54fcda4e6885144feabc6bd8e4",
      "86ad512853e1402bac1858a32dec386c",
      "95b48c14961749a88be3f15701d7e15e",
      "5a2ff825dd4a4857a40d023eda21462a",
      "92266156adad455d8f28f4fa4641a0b4",
      "5fc33ea5fcc34c8990c9150dbc8eb7a3",
      "ff438db7ec394b78909dcc3a3f4e6be9",
      "9d4f6b7f4f5943e5a931d9f8d6cb37a9",
      "a2e440f714304c97b4e248cf376bf3c2",
      "7ff27985f8634c579ded983e3e6fbd2f",
      "4299a7670f78442a814117639b683d8a",
      "bfbab7d644944175b7feaaca6f58b4f8",
      "2a4b9b49fe694afdaa2a494ff0137fb5",
      "ba018cd1591e49d5baf0df5be359563f",
      "8b1bf25629d14801a906baa5caa69d29",
      "a99818ed44ee458d8c19aa241565fd95",
      "1289aebe47684603b684f6be5a1826f1",
      "a872490026ee4af1bc87bcd643f680a8",
      "3953bf3ddb7c41759eb32fcc36fb3e91",
      "84e67072d5264e3c8f330224faace004",
      "3f901ffaf84a417498022fbf9fde957c",
      "372c6c707ff9425f98c4bd9a12b044c4",
      "d65bac8df9ee40cba54955eda16bd78a",
      "94ca49f10e9e4753bc1888aa831db6a6",
      "07359fda94e74d2f8c43f2b4187433e0",
      "31e24cb6ac13465388fc8157e524632d",
      "9ad25ecf852c461fb4e60f71eb493aa8",
      "4b905d4f7d7340b081043cbebca4d41d",
      "12f90104466a4986b8ccd4bfa95a0991",
      "878c80ea29ca4cee9297af151b0a7039",
      "6593542dd59b41f086ede40fb49e442f",
      "38fa501e8f314291bdbb6f442432ebf6",
      "a1a708e1671b4b64b5c1311a531d4411",
      "7816219f735647de8f2b5a0501a87c25",
      "e4545f258c1a424bae1f7b440aa0d225",
      "6b6ab925a86646edb8fcd055d9e0f877",
      "2d57d47309c043e8a396a01a234ce29b",
      "ec7a71f705324a4aa9d07e719f8dc146",
      "f6672a9305c8441ca2e7c8a6409fa2a0",
      "d99f59f87b4643e5909dab2e70cfb142",
      "ec7c9b574ae4452f8618e62116baf4d1",
      "beee4954780740449e47b1013bca52f6",
      "d327eec6df614bd391b8b4040564c6de",
      "ec6fe7dd5579401bb9f28c2794915162",
      "10d2b9ca788a4e73b237b887aaa4e93e",
      "eae9904c767a450b8e6142e111f338cd",
      "d21367a202d94b658dec6f0b52430a46",
      "0021eb1040e244609c00c911681de6bf",
      "a56f5c0028e1417ca740ad1704154904",
      "4263fc536067480fa014c5e9f6335e27",
      "34bf85b3c5c447c09f52ff3cecf58ae1",
      "9898eec4826d41da9a9d5fee652a7550",
      "6b6b52b90bd940a6bedbd816dfd8fea0",
      "49914a4be85742048206351d896b6e25",
      "dac577ccf110472d8b821a2207813bd6",
      "0f03fe6d89624807b86dc4bbd5a5eee7",
      "1e2e9b99c08f4a12ac1df12a0a6cfd33",
      "c761e3d2721a4625abef8877cfce79fe",
      "0542b283a2da4f2892b25accbb8c804a",
      "2ff1c28d671e45a4a3a60a77db948b13",
      "ee2340721b7a4b7caf0c6698181a4b12",
      "3011a6691277411da618bb9be6e9b8c8",
      "2a48b7ae1373412c91da2f244431c503",
      "d09ced3ae5cc40228ad0459a2abc4185",
      "4c926a81442c47399e9d417afe1239d8",
      "ef510e59dad648b7a9962247cfe31049",
      "4f579d4b177147fba0623d61a0e1ed04",
      "58bb1f53e7274c07bc272a5852b01840",
      "f297a94622a04693af9b08b89d15315b",
      "4886b436eea64beaab4b9dc9b9555977",
      "06e878d5c3634079a8b9e1fd2fdd1121",
      "b5515ad94184474f9fd67fac8df391ff",
      "2cc7bcfd279a43dd806d0b955b53f4ac",
      "4aa2475714f848c6ae48ad637d10b0c7",
      "3d7139d5d391400997cde5eef83b1ae5",
      "7ad6649893494271ac9aa1a0d609ea60",
      "2a5af9d192ac494cbe7ef3995886c1e5",
      "4c71591156404432bdd1c4e3a4f3289e",
      "47232bb45d8b4cabb414a7bd1bef5a6b",
      "3f04eaa8abf64636bf8274280ae0d179",
      "76f214b933864395978696f3058e361b",
      "cead14c4497e4e9eafe422145d082045",
      "a51135370631467993777b44ab3995cd",
      "38347050251f43c48bd39577867234e9",
      "46313bedf44d4c20a0047c92dd86e64a",
      "faa26f12be044c29af46cfe51f5a3464",
      "c98b5bb5e9a443b5a5478f542231a594",
      "f8d2a7a2da6f42b792723458cf037b6c",
      "0e9db40c48e7454e8302fcb4d0b62599",
      "02423257a3fb4f718351a5ecd9787d07",
      "7a809ecb991948bfab4ef8e64c7c500a",
      "80724bb9edf9489f98582ba1b3683503",
      "851d0890ac26499dae10e917270c4683",
      "a46518b565524b31a961ee3ef5506190",
      "93078290006c48d8adc4ad56542454e5",
      "064eaeb8891f49ae84a525d307f0b875",
      "7170413047e042ffb474056dcea3446f",
      "955f53165f444264a3f9fb856d00dc7f",
      "3120312be4324bd493e6f32ce0c8b8f4",
      "a5c83b22e1a64a818c67ab02cd02f820",
      "7936db6a27c0490195ec1f124712d9fd",
      "369369d9a0ff47ddba97f8be6cfa9017",
      "18fefb5684f64000b4de4ad5befa43f9",
      "b4435ae75a634cc9a194f9e174b36d19",
      "040148650b8741beb39540d4c89e2e33",
      "ecb57edf9bf64db5a9220c55625507c6",
      "7ccc465213bd4eaa944047256d67b500",
      "4d077087b3674190bb5f08acae6ffa94",
      "f9bd62cc1f154f148081083e786eea06",
      "331d7e042eb3454cb5e42ca601647dbd",
      "65268b49df1c4bdb848c25ce09392042",
      "6b2c16d3648d4b27a47e473ecbd0bfa5",
      "72ec17c113ed4b29a0880c92512c2476",
      "b6d47bb034b7490aa4885e731fd5afdc",
      "af17d5eca7ea49be982bc661e66fc328",
      "b597f0f92ae14dfe8cc453363c321c52",
      "e135640199fe48f6ba2c4bde7e0ea333",
      "441fd5cc074e40e094aeead3e8328483",
      "1dfacfab9244464d91cdc4b697168410",
      "98e08f39307546f88c3f1bb90b8686a3",
      "28c2fda73abc4db4875a915760e03268",
      "c3066b2324fb45fab817333a9c1badd7",
      "6028f15daaa445fcb173657cb6e66dbc",
      "1af44166df8840daaa61a91d56583309",
      "982a334878bf404d90c8257b7dc83064",
      "c832728a4d3f49db9535763407b5e552",
      "533801f943d94134ad3941f73542b342",
      "45934f93dc304ec2be76ba3eaf1a6c76",
      "398d08f55a2d49dda0923ef0202ad2bb",
      "a754897b481c4ceaa13142ce3dd5310b",
      "4db766171f32422eaa4d6fb42c3dd24f",
      "396d1a62dead4e3aaddb41b81454d34c",
      "0bf23f43d850430fab223d573484c6e4",
      "f981fa85ba944aa18a5ce43f122ef6e1",
      "c6e06885516f408b912df3ad29907b4d",
      "feade7d277114639b606614168dd07d8",
      "94df5a3602c24ae0bdf8aa904e385e56",
      "bfc8b5ed3ab24bb1b93bd9c4d77646f9",
      "a101c0d2d5f241c4b856014827144c16",
      "99f2e250918d4e6aa1c6cde7d1c96093",
      "e4e7688ce8b34ea4bdf161b2fb877de0",
      "1ce13e47fed041da92b4cbb55da75cf1",
      "ba8a329438364c0c9303d34b0fd642ca",
      "baa2c23c35d84c06b0fc6350d7ae4522",
      "e7a899b682e443b3a962c6ec21a41532",
      "899297d969e945e787050c3219b552a6",
      "591d782d721e46e888c794f7644154af",
      "25b3f74e4cd34fc583b9c5a14939de9e",
      "ace8055c2e814e97950272eaf15aaf29",
      "0c4643b455e3467688eb2c34f88624f1",
      "1c37d10fc2164c7499b0600e956067c0",
      "12befaf372224c7c88406f41959c3157",
      "ed1c211a10b4448c8de2778e3ef8e341",
      "a8c13a792e474a0aaf548d3beb386929",
      "0e49804448754f2dad9ac37059707198",
      "9ef7d9320f2448d4a77d54ab2bf0ce4b",
      "f32f65d5ba8242ddab69ce5e69eec8ec",
      "23e1a8da77af4020a8740ebab9a82926",
      "4c847c0c42874a178cf7a41e09e3dfc7",
      "a302f3e52c514861964f704789127aab",
      "fcc835b3ddc34bc599a4c3e371069d52",
      "adc1bb8d515343adb8a1b6dcf9061649",
      "7df5996210c3498f9236cf7b86e30818",
      "ceea0c7e6fce41deab177cd4ea6c8ac5",
      "ae12d5dc0b98461db86a06f820692a22",
      "8b96eecdea8b43919af4454a5681bf98",
      "85d88d6d5428421e9ea55f4b88453dee",
      "570e2a29cf3846048e62ad1a75b92ae5",
      "3fc939ca1d6941a7b6ba49e900ff7fb6",
      "032e4a1bbf0e49869fe5cae5a5df71b8",
      "3fe4abc9f38e4b7b90bc81a2de53430b",
      "5d7de9a4bfe343cbbc6868e2080a4d95",
      "239480ba46514eaeb33cb9bb31fc13cc",
      "2e29847071f540cc8ecffd819b82fe67",
      "c7ce098c3fe341cabebc3b10efc1c871",
      "9ba6b71aa89847cfbefdfe9164892d39",
      "fa914b021d0d4c1aaaf9782fab509355",
      "8979e73373ff472ca9e6c22f50b756e2",
      "75c469f2bc4949418e619367e59fedca",
      "d7baef46ef864b608908bf423e700bd7",
      "4d46f4af10d5434aa722a34adaba653c",
      "94ed78c32b20481ea3dd548d1d2fae76",
      "4d8b983fd1674dcd864bcd7d8e7a39ca",
      "ed72604e414746afb03776da912c4918",
      "9b6e2a659d224e22ba545207500a0dc1",
      "d272bb57e45343928c16f33c84b9ab1c",
      "731fe8c359d34eb1b922440e2621f9c8",
      "f3c44f5dd0b942c0817d9fafde91d51e",
      "b1c1744b753c4681b747b097f463f698",
      "e52a2c1cdf1d48689ec1ca2407c9b6be",
      "bde7ca36db364bde9587074650045b88",
      "e6157500b08a4766b1efc19293a5d947",
      "b9e9826685584068b1e40c5bafd227a2",
      "690f568e7f4349f09a40d4ad70c9c631",
      "23080cd76d984bee91e46038be0cad78",
      "9925266ab50748938794f9ee2f9c54d0",
      "fefa9be3fc554b2094eabffedf08d038",
      "fd36658f3a394b45a0ec406a49b6b0cc",
      "bebf2ac2eb98429b9c2d37696be604d9",
      "5e4bb7c75ac34bcf8a62607c90b5936b",
      "e65cdf8cdd38456c81932343e1be1cd7",
      "f6aa6e1dce9e4d65930d224530ea8171",
      "f8888c73ac5446fea6205f3db84fa0bb",
      "450b452408cd4c019c5352d36652a171",
      "82937345c2c945f5b4fce294e5710c97",
      "c5dbc97ef32c4dfc84cebe18e165c1ff",
      "2e9f045924174edbaa38c480c918de20",
      "771a8eae1b7644edb3cbdd78c5f115b5",
      "880ffd6869f84235b864fb9a5f96ab18",
      "13cfa63ebd7c477eaec7cddac78a63ee",
      "47e204b776834a97960656252f61a69a",
      "57c43868c19b4ac49f19bb3bbd173334",
      "b04b1b3005e44589b6f958c2ba70155f",
      "e643ad2bdd75435cb2357b65dcbb2d4c",
      "f066e1ce8f4f46d9ab1ccfc621e91a8d",
      "1187522217a94520a7cc50b2f3abaa2f",
      "82908b792c1e4921b28e572d381c62e4",
      "cbc623c7ba0240f8969b4e2bcbfa8da3",
      "813059b809bf46d6aa54fc9ca91e3218",
      "75c37de9b22a4c10ace5b907eab4b531",
      "4bacdd0b2b3645c0a2193c1c20724920",
      "f31057fbe89c4a7293403038debb5aca",
      "0c32e567398e4390acbfa50d8dfaa452",
      "7a338b11d1ad4eda8dcd28d10945ff8c",
      "42f4d8fe0bd14d6694a524681cb91de9",
      "544a69e498344a49a750be44dd39b2ed",
      "37fd922925874e09871263ea156792fa",
      "fcc1e9cefa7745319264445779f88d4f",
      "61ae303ac308484fb348b9e00d478544",
      "5717c0bda9b349c8b7265efd831f3265",
      "e8ded5ad3ac1486ab345d23cdd51471d",
      "cf0bbdca1a174493b76f6d7563579e0a",
      "596263e3225541c3911b06b71e3983f1",
      "270daa38423041b4a4ef2a360fc8592c",
      "f530f1fa7ee249d8a04e4ec1dd400a6a",
      "4cdb448949e742c79d0587e88404fc15",
      "26242f6db3da4ccbae0c35c5fab724cd",
      "c42d51a522964f82a623339942e3c2e1",
      "358702a33a244d48959f1ce4605ad923",
      "b92d76d4256f4d4694e21e0c45a6305e",
      "c8cc23a14ab14055a7be5508524734a1",
      "df967d1779394499a47c62892d18011f",
      "864ceafa0a314ed0ab616ccb6479814e",
      "612d2961ca4940cda69d8e536d4ed56e",
      "9956d48555174845a3eaab615f362b48",
      "e02e61f4ca8f4f46a8f5ddeb3db89cef",
      "12f5c194b26b4719ba06c79c3fc55e85",
      "0a6167d9d2c14b3784fc9a6b422b05cf",
      "e7a839a6883e4ee8b1a9413b47face98",
      "0fb4669dce2246a3b8fed95eb33bdf92",
      "5356554ba9544cd083c6cf7405197afe",
      "f9e63c9605d944f7ba29fbed594f7743",
      "f5235db0baef47c58da502b83183fced",
      "db5388b380e740dfbb2f6a65907de912",
      "24295cb9364d45088ec9d23d5f86124c",
      "1bf8b466948a40e8a15df688e91818e9",
      "4c2394e2a23d42e082b0745e1a0ff3f9",
      "5ebb649e90c94e638be9f4bd7158b7e0",
      "110a26c6dd304a12bf0884c6d96b0505",
      "e1d1e21505c948b3a4e41fa32693e842",
      "22f61053eb394f0eb5d1e8ff59af092a",
      "fcb930dbdd5b44688438e9610f5b09f0",
      "b5a54a132d004b90b19c7b1b3c024bca",
      "9b9458ec71bd49299a8621d5fa8abbb2",
      "c517795e86ae4d30ac0c86cf86b236df",
      "4825909984634cedbc2d65e1512d10be",
      "00b0dc75eee1455c9ccadf45366771cf",
      "35255c289f8049fc943dfb3f928a50f0",
      "cd7aa680323743ccad35b27dbe885d36",
      "fd2ad10a758940be98924746aa229239",
      "73d37cf7836c4786bfb3d320a44f5437",
      "4820e1945d294d77b51b73ee2dc0e51c",
      "2f91f11668854a9cb338ef5e6e6510b2",
      "ded353d5a92c4499b52851eb501b5415",
      "e40d5ab86b41476d894e1b72514dc97f",
      "dd12f5fe79e248c590db45a05987bb01",
      "46a65b03639d4ec9b559104db191aa5b",
      "6815b4ae9c1345c2ad735bd8dbe8e79b",
      "b03b8d2ef78749aaa3db9aa84a40eb77",
      "9aec43bb49f84dc8925200efeee280ea",
      "1ed44954d42147819b847b19febd14c3",
      "73aa02c7830a4c279edc50eeb53fec79",
      "c37d003830b9405bb2bb7be4b2c32a87",
      "0575f83cc8d1470492b1b4a9c3023e91",
      "ad99f381e4e34b7c862c63fa961e2204",
      "e1ed14947e82476193c29d7702199e82",
      "6cfd213604dd4548990906f4c7a6e86b",
      "e933891c67f64d7ab92f8a1dbe2d861b",
      "747e694a042746a4b6059839b51b5339",
      "1b9f57c97e204c5cb6f874a2cad850a3",
      "8d51d76a4f5842a6af255a2a8af728dc",
      "745b1108e9ea4080beecee9d5d23fcb5",
      "d38b895daf844954b7d4f89f76fba2e2",
      "5dda9f2786de4ba68b387576ae8e4e2c",
      "b3fa2e7337a244c6bd5efcaaec8979de",
      "1b4fe5582b9a4bf8ad3c4e14401c1d43",
      "870b3ff5493241a8a530461665bfdbff",
      "b8181dec9efd463ca5b874a7df8d1998",
      "e8f6c37dda2542af9dd6501496c1f60b",
      "dd9ce98736a94e7782f25c35ec426d87",
      "94e8e695c66240b6958480b6e24d60bd",
      "f34c44c6d3564d38822c7b86e55db0e6",
      "5bbfed4aea9a473fbf22c08967942def",
      "9d553ba7b34b48e4a33021ae414938e8"
     ]
    },
    "id": "TP_FZeKUTADi",
    "outputId": "705b87ea-a8cd-48e2-c25d-7226d5bc6c0d"
   },
   "outputs": [
    {
     "data": {
      "application/vnd.jupyter.widget-view+json": {
       "model_id": "255efb0a3a204e529bc6afd097a3a162",
       "version_major": 2,
       "version_minor": 0
      },
      "text/plain": [
       "E001:   0%|          | 0/24 [00:00<?, ?it/s]"
      ]
     },
     "metadata": {},
     "output_type": "display_data"
    },
    {
     "data": {
      "application/vnd.jupyter.widget-view+json": {
       "model_id": "cfa4d490b6f44d7f9e018d0b23ef046a",
       "version_major": 2,
       "version_minor": 0
      },
      "text/plain": [
       "Validating:   0%|          | 0/6 [00:00<?, ?it/s]"
      ]
     },
     "metadata": {},
     "output_type": "display_data"
    },
    {
     "name": "stdout",
     "output_type": "stream",
     "text": [
      "Epoch 01: mAP@0.5 = 0.0000 | loss = 3.6756\n"
     ]
    },
    {
     "data": {
      "application/vnd.jupyter.widget-view+json": {
       "model_id": "cd9d0308ff1e4ddc87954789ff6b26f7",
       "version_major": 2,
       "version_minor": 0
      },
      "text/plain": [
       "E002:   0%|          | 0/24 [00:00<?, ?it/s]"
      ]
     },
     "metadata": {},
     "output_type": "display_data"
    },
    {
     "data": {
      "application/vnd.jupyter.widget-view+json": {
       "model_id": "13f9daa8e63c46869d4389915d70586e",
       "version_major": 2,
       "version_minor": 0
      },
      "text/plain": [
       "Validating:   0%|          | 0/6 [00:00<?, ?it/s]"
      ]
     },
     "metadata": {},
     "output_type": "display_data"
    },
    {
     "name": "stdout",
     "output_type": "stream",
     "text": [
      "Epoch 02: mAP@0.5 = 0.0000 | loss = 2.9633\n"
     ]
    },
    {
     "data": {
      "application/vnd.jupyter.widget-view+json": {
       "model_id": "8d9e4701def2427985504c925db034ca",
       "version_major": 2,
       "version_minor": 0
      },
      "text/plain": [
       "E003:   0%|          | 0/24 [00:00<?, ?it/s]"
      ]
     },
     "metadata": {},
     "output_type": "display_data"
    },
    {
     "data": {
      "application/vnd.jupyter.widget-view+json": {
       "model_id": "fd5679e1af394d92bd695d79e8217c47",
       "version_major": 2,
       "version_minor": 0
      },
      "text/plain": [
       "Validating:   0%|          | 0/6 [00:00<?, ?it/s]"
      ]
     },
     "metadata": {},
     "output_type": "display_data"
    },
    {
     "name": "stdout",
     "output_type": "stream",
     "text": [
      "Epoch 03: mAP@0.5 = 0.0000 | loss = 1.9399\n"
     ]
    },
    {
     "data": {
      "application/vnd.jupyter.widget-view+json": {
       "model_id": "1f81dcec479a4496adaa639a95d11c27",
       "version_major": 2,
       "version_minor": 0
      },
      "text/plain": [
       "E004:   0%|          | 0/24 [00:00<?, ?it/s]"
      ]
     },
     "metadata": {},
     "output_type": "display_data"
    },
    {
     "data": {
      "application/vnd.jupyter.widget-view+json": {
       "model_id": "fd40efaca18f4a96845acfda0d21369a",
       "version_major": 2,
       "version_minor": 0
      },
      "text/plain": [
       "Validating:   0%|          | 0/6 [00:00<?, ?it/s]"
      ]
     },
     "metadata": {},
     "output_type": "display_data"
    },
    {
     "name": "stdout",
     "output_type": "stream",
     "text": [
      "Epoch 04: mAP@0.5 = 0.0000 | loss = 0.9593\n"
     ]
    },
    {
     "data": {
      "application/vnd.jupyter.widget-view+json": {
       "model_id": "9ccb79bca4e944c7b2199fc66b8c2ad3",
       "version_major": 2,
       "version_minor": 0
      },
      "text/plain": [
       "E005:   0%|          | 0/24 [00:00<?, ?it/s]"
      ]
     },
     "metadata": {},
     "output_type": "display_data"
    },
    {
     "data": {
      "application/vnd.jupyter.widget-view+json": {
       "model_id": "589972a7f042462a890cef9ce60cb798",
       "version_major": 2,
       "version_minor": 0
      },
      "text/plain": [
       "Validating:   0%|          | 0/6 [00:00<?, ?it/s]"
      ]
     },
     "metadata": {},
     "output_type": "display_data"
    },
    {
     "name": "stdout",
     "output_type": "stream",
     "text": [
      "Epoch 05: mAP@0.5 = 0.0010 | loss = 0.9517\n"
     ]
    },
    {
     "data": {
      "application/vnd.jupyter.widget-view+json": {
       "model_id": "e43562ef61754698acce6bb1c9464646",
       "version_major": 2,
       "version_minor": 0
      },
      "text/plain": [
       "E006:   0%|          | 0/24 [00:00<?, ?it/s]"
      ]
     },
     "metadata": {},
     "output_type": "display_data"
    },
    {
     "data": {
      "application/vnd.jupyter.widget-view+json": {
       "model_id": "ea810df229d547249c50202a4d04797f",
       "version_major": 2,
       "version_minor": 0
      },
      "text/plain": [
       "Validating:   0%|          | 0/6 [00:00<?, ?it/s]"
      ]
     },
     "metadata": {},
     "output_type": "display_data"
    },
    {
     "name": "stdout",
     "output_type": "stream",
     "text": [
      "Epoch 06: mAP@0.5 = 0.0000 | loss = 0.7324\n"
     ]
    },
    {
     "data": {
      "application/vnd.jupyter.widget-view+json": {
       "model_id": "6129e90338484a359f9b20a74cfccab4",
       "version_major": 2,
       "version_minor": 0
      },
      "text/plain": [
       "E007:   0%|          | 0/24 [00:00<?, ?it/s]"
      ]
     },
     "metadata": {},
     "output_type": "display_data"
    },
    {
     "data": {
      "application/vnd.jupyter.widget-view+json": {
       "model_id": "5192c3067348481da30790cabe84f62c",
       "version_major": 2,
       "version_minor": 0
      },
      "text/plain": [
       "Validating:   0%|          | 0/6 [00:00<?, ?it/s]"
      ]
     },
     "metadata": {},
     "output_type": "display_data"
    },
    {
     "name": "stdout",
     "output_type": "stream",
     "text": [
      "Epoch 07: mAP@0.5 = 0.0000 | loss = 0.5766\n"
     ]
    },
    {
     "data": {
      "application/vnd.jupyter.widget-view+json": {
       "model_id": "e6920cb9248e4f1eaf3cade41a683f9d",
       "version_major": 2,
       "version_minor": 0
      },
      "text/plain": [
       "E008:   0%|          | 0/24 [00:00<?, ?it/s]"
      ]
     },
     "metadata": {},
     "output_type": "display_data"
    },
    {
     "data": {
      "application/vnd.jupyter.widget-view+json": {
       "model_id": "8102680a3a0145c0a9bb6eec7ca05faa",
       "version_major": 2,
       "version_minor": 0
      },
      "text/plain": [
       "Validating:   0%|          | 0/6 [00:00<?, ?it/s]"
      ]
     },
     "metadata": {},
     "output_type": "display_data"
    },
    {
     "name": "stdout",
     "output_type": "stream",
     "text": [
      "Epoch 08: mAP@0.5 = 0.0000 | loss = 0.7444\n"
     ]
    },
    {
     "data": {
      "application/vnd.jupyter.widget-view+json": {
       "model_id": "27d82dfbb36a4b1da0c4c01fcd969434",
       "version_major": 2,
       "version_minor": 0
      },
      "text/plain": [
       "E009:   0%|          | 0/24 [00:00<?, ?it/s]"
      ]
     },
     "metadata": {},
     "output_type": "display_data"
    },
    {
     "data": {
      "application/vnd.jupyter.widget-view+json": {
       "model_id": "3e57212b1cf148b6940a4517d13a5935",
       "version_major": 2,
       "version_minor": 0
      },
      "text/plain": [
       "Validating:   0%|          | 0/6 [00:00<?, ?it/s]"
      ]
     },
     "metadata": {},
     "output_type": "display_data"
    },
    {
     "name": "stdout",
     "output_type": "stream",
     "text": [
      "Epoch 09: mAP@0.5 = 0.0000 | loss = 0.6645\n"
     ]
    },
    {
     "data": {
      "application/vnd.jupyter.widget-view+json": {
       "model_id": "0af7e2ab603a4885b968f8aa02a2539e",
       "version_major": 2,
       "version_minor": 0
      },
      "text/plain": [
       "E010:   0%|          | 0/24 [00:00<?, ?it/s]"
      ]
     },
     "metadata": {},
     "output_type": "display_data"
    },
    {
     "data": {
      "application/vnd.jupyter.widget-view+json": {
       "model_id": "76bb4af9356b42a8b8e86297865adbff",
       "version_major": 2,
       "version_minor": 0
      },
      "text/plain": [
       "Validating:   0%|          | 0/6 [00:00<?, ?it/s]"
      ]
     },
     "metadata": {},
     "output_type": "display_data"
    },
    {
     "name": "stdout",
     "output_type": "stream",
     "text": [
      "Epoch 10: mAP@0.5 = 0.0000 | loss = 0.5265\n"
     ]
    },
    {
     "data": {
      "application/vnd.jupyter.widget-view+json": {
       "model_id": "a49210e8e772453a9a659a19f0c2ad6b",
       "version_major": 2,
       "version_minor": 0
      },
      "text/plain": [
       "E011:   0%|          | 0/24 [00:00<?, ?it/s]"
      ]
     },
     "metadata": {},
     "output_type": "display_data"
    },
    {
     "data": {
      "application/vnd.jupyter.widget-view+json": {
       "model_id": "eefeb68bf4d04e9ca642ca6be2426471",
       "version_major": 2,
       "version_minor": 0
      },
      "text/plain": [
       "Validating:   0%|          | 0/6 [00:00<?, ?it/s]"
      ]
     },
     "metadata": {},
     "output_type": "display_data"
    },
    {
     "name": "stdout",
     "output_type": "stream",
     "text": [
      "Epoch 11: mAP@0.5 = 0.0000 | loss = 0.5958\n"
     ]
    },
    {
     "data": {
      "application/vnd.jupyter.widget-view+json": {
       "model_id": "4e239e92eee047bc9f70bba86518ed23",
       "version_major": 2,
       "version_minor": 0
      },
      "text/plain": [
       "E012:   0%|          | 0/24 [00:00<?, ?it/s]"
      ]
     },
     "metadata": {},
     "output_type": "display_data"
    },
    {
     "data": {
      "application/vnd.jupyter.widget-view+json": {
       "model_id": "9b824587a2ce4569b67d838a7c1a930d",
       "version_major": 2,
       "version_minor": 0
      },
      "text/plain": [
       "Validating:   0%|          | 0/6 [00:00<?, ?it/s]"
      ]
     },
     "metadata": {},
     "output_type": "display_data"
    },
    {
     "name": "stdout",
     "output_type": "stream",
     "text": [
      "Epoch 12: mAP@0.5 = 0.0000 | loss = 0.6080\n"
     ]
    },
    {
     "data": {
      "application/vnd.jupyter.widget-view+json": {
       "model_id": "ef86a1cc4ec24f178978bfdd442781e2",
       "version_major": 2,
       "version_minor": 0
      },
      "text/plain": [
       "E013:   0%|          | 0/24 [00:00<?, ?it/s]"
      ]
     },
     "metadata": {},
     "output_type": "display_data"
    },
    {
     "data": {
      "application/vnd.jupyter.widget-view+json": {
       "model_id": "73f3ee9be25b4cccbd5ea3b1c4152ae7",
       "version_major": 2,
       "version_minor": 0
      },
      "text/plain": [
       "Validating:   0%|          | 0/6 [00:00<?, ?it/s]"
      ]
     },
     "metadata": {},
     "output_type": "display_data"
    },
    {
     "name": "stdout",
     "output_type": "stream",
     "text": [
      "Epoch 13: mAP@0.5 = 0.0000 | loss = 0.4576\n"
     ]
    },
    {
     "data": {
      "application/vnd.jupyter.widget-view+json": {
       "model_id": "ff38b43c8db04d4a8d850f88918ea769",
       "version_major": 2,
       "version_minor": 0
      },
      "text/plain": [
       "E014:   0%|          | 0/24 [00:00<?, ?it/s]"
      ]
     },
     "metadata": {},
     "output_type": "display_data"
    },
    {
     "data": {
      "application/vnd.jupyter.widget-view+json": {
       "model_id": "9796a4e8368b4a47b31a178bed374c72",
       "version_major": 2,
       "version_minor": 0
      },
      "text/plain": [
       "Validating:   0%|          | 0/6 [00:00<?, ?it/s]"
      ]
     },
     "metadata": {},
     "output_type": "display_data"
    },
    {
     "name": "stdout",
     "output_type": "stream",
     "text": [
      "Epoch 14: mAP@0.5 = 0.0000 | loss = 0.6719\n"
     ]
    },
    {
     "data": {
      "application/vnd.jupyter.widget-view+json": {
       "model_id": "91540530df3645df8a6365615e899047",
       "version_major": 2,
       "version_minor": 0
      },
      "text/plain": [
       "E015:   0%|          | 0/24 [00:00<?, ?it/s]"
      ]
     },
     "metadata": {},
     "output_type": "display_data"
    },
    {
     "data": {
      "application/vnd.jupyter.widget-view+json": {
       "model_id": "51332b93c4bd45cebc5dbd299ea94c97",
       "version_major": 2,
       "version_minor": 0
      },
      "text/plain": [
       "Validating:   0%|          | 0/6 [00:00<?, ?it/s]"
      ]
     },
     "metadata": {},
     "output_type": "display_data"
    },
    {
     "name": "stdout",
     "output_type": "stream",
     "text": [
      "Epoch 15: mAP@0.5 = 0.0000 | loss = 0.5413\n"
     ]
    },
    {
     "data": {
      "application/vnd.jupyter.widget-view+json": {
       "model_id": "3648971a81b343d79bee90b2f4ac7de5",
       "version_major": 2,
       "version_minor": 0
      },
      "text/plain": [
       "E016:   0%|          | 0/24 [00:00<?, ?it/s]"
      ]
     },
     "metadata": {},
     "output_type": "display_data"
    },
    {
     "data": {
      "application/vnd.jupyter.widget-view+json": {
       "model_id": "c09ddee9d669453188acfffa91d99cab",
       "version_major": 2,
       "version_minor": 0
      },
      "text/plain": [
       "Validating:   0%|          | 0/6 [00:00<?, ?it/s]"
      ]
     },
     "metadata": {},
     "output_type": "display_data"
    },
    {
     "name": "stdout",
     "output_type": "stream",
     "text": [
      "Epoch 16: mAP@0.5 = 0.0034 | loss = 0.6834\n"
     ]
    },
    {
     "data": {
      "application/vnd.jupyter.widget-view+json": {
       "model_id": "f3fda5c1c27c419c953a26dae09d02cb",
       "version_major": 2,
       "version_minor": 0
      },
      "text/plain": [
       "E017:   0%|          | 0/24 [00:00<?, ?it/s]"
      ]
     },
     "metadata": {},
     "output_type": "display_data"
    },
    {
     "data": {
      "application/vnd.jupyter.widget-view+json": {
       "model_id": "9d4f6b7f4f5943e5a931d9f8d6cb37a9",
       "version_major": 2,
       "version_minor": 0
      },
      "text/plain": [
       "Validating:   0%|          | 0/6 [00:00<?, ?it/s]"
      ]
     },
     "metadata": {},
     "output_type": "display_data"
    },
    {
     "name": "stdout",
     "output_type": "stream",
     "text": [
      "Epoch 17: mAP@0.5 = 0.0031 | loss = 0.2725\n"
     ]
    },
    {
     "data": {
      "application/vnd.jupyter.widget-view+json": {
       "model_id": "3953bf3ddb7c41759eb32fcc36fb3e91",
       "version_major": 2,
       "version_minor": 0
      },
      "text/plain": [
       "E018:   0%|          | 0/24 [00:00<?, ?it/s]"
      ]
     },
     "metadata": {},
     "output_type": "display_data"
    },
    {
     "data": {
      "application/vnd.jupyter.widget-view+json": {
       "model_id": "878c80ea29ca4cee9297af151b0a7039",
       "version_major": 2,
       "version_minor": 0
      },
      "text/plain": [
       "Validating:   0%|          | 0/6 [00:00<?, ?it/s]"
      ]
     },
     "metadata": {},
     "output_type": "display_data"
    },
    {
     "name": "stdout",
     "output_type": "stream",
     "text": [
      "Epoch 18: mAP@0.5 = 0.0031 | loss = 0.7341\n"
     ]
    },
    {
     "data": {
      "application/vnd.jupyter.widget-view+json": {
       "model_id": "ec7c9b574ae4452f8618e62116baf4d1",
       "version_major": 2,
       "version_minor": 0
      },
      "text/plain": [
       "E019:   0%|          | 0/24 [00:00<?, ?it/s]"
      ]
     },
     "metadata": {},
     "output_type": "display_data"
    },
    {
     "data": {
      "application/vnd.jupyter.widget-view+json": {
       "model_id": "9898eec4826d41da9a9d5fee652a7550",
       "version_major": 2,
       "version_minor": 0
      },
      "text/plain": [
       "Validating:   0%|          | 0/6 [00:00<?, ?it/s]"
      ]
     },
     "metadata": {},
     "output_type": "display_data"
    },
    {
     "name": "stdout",
     "output_type": "stream",
     "text": [
      "Epoch 19: mAP@0.5 = 0.0000 | loss = 0.4893\n"
     ]
    },
    {
     "data": {
      "application/vnd.jupyter.widget-view+json": {
       "model_id": "2a48b7ae1373412c91da2f244431c503",
       "version_major": 2,
       "version_minor": 0
      },
      "text/plain": [
       "E020:   0%|          | 0/24 [00:00<?, ?it/s]"
      ]
     },
     "metadata": {},
     "output_type": "display_data"
    },
    {
     "data": {
      "application/vnd.jupyter.widget-view+json": {
       "model_id": "4aa2475714f848c6ae48ad637d10b0c7",
       "version_major": 2,
       "version_minor": 0
      },
      "text/plain": [
       "Validating:   0%|          | 0/6 [00:00<?, ?it/s]"
      ]
     },
     "metadata": {},
     "output_type": "display_data"
    },
    {
     "name": "stdout",
     "output_type": "stream",
     "text": [
      "Epoch 20: mAP@0.5 = 0.0000 | loss = 0.4906\n"
     ]
    },
    {
     "data": {
      "application/vnd.jupyter.widget-view+json": {
       "model_id": "46313bedf44d4c20a0047c92dd86e64a",
       "version_major": 2,
       "version_minor": 0
      },
      "text/plain": [
       "E021:   0%|          | 0/24 [00:00<?, ?it/s]"
      ]
     },
     "metadata": {},
     "output_type": "display_data"
    },
    {
     "data": {
      "application/vnd.jupyter.widget-view+json": {
       "model_id": "064eaeb8891f49ae84a525d307f0b875",
       "version_major": 2,
       "version_minor": 0
      },
      "text/plain": [
       "Validating:   0%|          | 0/6 [00:00<?, ?it/s]"
      ]
     },
     "metadata": {},
     "output_type": "display_data"
    },
    {
     "name": "stdout",
     "output_type": "stream",
     "text": [
      "Epoch 21: mAP@0.5 = 0.0000 | loss = 0.7862\n"
     ]
    },
    {
     "data": {
      "application/vnd.jupyter.widget-view+json": {
       "model_id": "7ccc465213bd4eaa944047256d67b500",
       "version_major": 2,
       "version_minor": 0
      },
      "text/plain": [
       "E022:   0%|          | 0/24 [00:00<?, ?it/s]"
      ]
     },
     "metadata": {},
     "output_type": "display_data"
    },
    {
     "data": {
      "application/vnd.jupyter.widget-view+json": {
       "model_id": "441fd5cc074e40e094aeead3e8328483",
       "version_major": 2,
       "version_minor": 0
      },
      "text/plain": [
       "Validating:   0%|          | 0/6 [00:00<?, ?it/s]"
      ]
     },
     "metadata": {},
     "output_type": "display_data"
    },
    {
     "name": "stdout",
     "output_type": "stream",
     "text": [
      "Epoch 22: mAP@0.5 = 0.0000 | loss = 0.5492\n"
     ]
    },
    {
     "data": {
      "application/vnd.jupyter.widget-view+json": {
       "model_id": "398d08f55a2d49dda0923ef0202ad2bb",
       "version_major": 2,
       "version_minor": 0
      },
      "text/plain": [
       "E023:   0%|          | 0/24 [00:00<?, ?it/s]"
      ]
     },
     "metadata": {},
     "output_type": "display_data"
    },
    {
     "data": {
      "application/vnd.jupyter.widget-view+json": {
       "model_id": "99f2e250918d4e6aa1c6cde7d1c96093",
       "version_major": 2,
       "version_minor": 0
      },
      "text/plain": [
       "Validating:   0%|          | 0/6 [00:00<?, ?it/s]"
      ]
     },
     "metadata": {},
     "output_type": "display_data"
    },
    {
     "name": "stdout",
     "output_type": "stream",
     "text": [
      "Epoch 23: mAP@0.5 = 0.0101 | loss = 0.8212\n"
     ]
    },
    {
     "data": {
      "application/vnd.jupyter.widget-view+json": {
       "model_id": "1c37d10fc2164c7499b0600e956067c0",
       "version_major": 2,
       "version_minor": 0
      },
      "text/plain": [
       "E024:   0%|          | 0/24 [00:00<?, ?it/s]"
      ]
     },
     "metadata": {},
     "output_type": "display_data"
    },
    {
     "data": {
      "application/vnd.jupyter.widget-view+json": {
       "model_id": "adc1bb8d515343adb8a1b6dcf9061649",
       "version_major": 2,
       "version_minor": 0
      },
      "text/plain": [
       "Validating:   0%|          | 0/6 [00:00<?, ?it/s]"
      ]
     },
     "metadata": {},
     "output_type": "display_data"
    },
    {
     "name": "stdout",
     "output_type": "stream",
     "text": [
      "Epoch 24: mAP@0.5 = 0.0000 | loss = 0.6336\n"
     ]
    },
    {
     "data": {
      "application/vnd.jupyter.widget-view+json": {
       "model_id": "239480ba46514eaeb33cb9bb31fc13cc",
       "version_major": 2,
       "version_minor": 0
      },
      "text/plain": [
       "E025:   0%|          | 0/24 [00:00<?, ?it/s]"
      ]
     },
     "metadata": {},
     "output_type": "display_data"
    },
    {
     "data": {
      "application/vnd.jupyter.widget-view+json": {
       "model_id": "ed72604e414746afb03776da912c4918",
       "version_major": 2,
       "version_minor": 0
      },
      "text/plain": [
       "Validating:   0%|          | 0/6 [00:00<?, ?it/s]"
      ]
     },
     "metadata": {},
     "output_type": "display_data"
    },
    {
     "name": "stdout",
     "output_type": "stream",
     "text": [
      "Epoch 25: mAP@0.5 = 0.0000 | loss = 0.3822\n"
     ]
    },
    {
     "data": {
      "application/vnd.jupyter.widget-view+json": {
       "model_id": "23080cd76d984bee91e46038be0cad78",
       "version_major": 2,
       "version_minor": 0
      },
      "text/plain": [
       "E026:   0%|          | 0/24 [00:00<?, ?it/s]"
      ]
     },
     "metadata": {},
     "output_type": "display_data"
    },
    {
     "data": {
      "application/vnd.jupyter.widget-view+json": {
       "model_id": "c5dbc97ef32c4dfc84cebe18e165c1ff",
       "version_major": 2,
       "version_minor": 0
      },
      "text/plain": [
       "Validating:   0%|          | 0/6 [00:00<?, ?it/s]"
      ]
     },
     "metadata": {},
     "output_type": "display_data"
    },
    {
     "name": "stdout",
     "output_type": "stream",
     "text": [
      "Epoch 26: mAP@0.5 = 0.0000 | loss = 1.0299\n"
     ]
    },
    {
     "data": {
      "application/vnd.jupyter.widget-view+json": {
       "model_id": "82908b792c1e4921b28e572d381c62e4",
       "version_major": 2,
       "version_minor": 0
      },
      "text/plain": [
       "E027:   0%|          | 0/24 [00:00<?, ?it/s]"
      ]
     },
     "metadata": {},
     "output_type": "display_data"
    },
    {
     "data": {
      "application/vnd.jupyter.widget-view+json": {
       "model_id": "fcc1e9cefa7745319264445779f88d4f",
       "version_major": 2,
       "version_minor": 0
      },
      "text/plain": [
       "Validating:   0%|          | 0/6 [00:00<?, ?it/s]"
      ]
     },
     "metadata": {},
     "output_type": "display_data"
    },
    {
     "name": "stdout",
     "output_type": "stream",
     "text": [
      "Epoch 27: mAP@0.5 = 0.0000 | loss = 0.7889\n"
     ]
    },
    {
     "data": {
      "application/vnd.jupyter.widget-view+json": {
       "model_id": "358702a33a244d48959f1ce4605ad923",
       "version_major": 2,
       "version_minor": 0
      },
      "text/plain": [
       "E028:   0%|          | 0/24 [00:00<?, ?it/s]"
      ]
     },
     "metadata": {},
     "output_type": "display_data"
    },
    {
     "data": {
      "application/vnd.jupyter.widget-view+json": {
       "model_id": "0fb4669dce2246a3b8fed95eb33bdf92",
       "version_major": 2,
       "version_minor": 0
      },
      "text/plain": [
       "Validating:   0%|          | 0/6 [00:00<?, ?it/s]"
      ]
     },
     "metadata": {},
     "output_type": "display_data"
    },
    {
     "name": "stdout",
     "output_type": "stream",
     "text": [
      "Epoch 28: mAP@0.5 = 0.0000 | loss = 0.8019\n"
     ]
    },
    {
     "data": {
      "application/vnd.jupyter.widget-view+json": {
       "model_id": "22f61053eb394f0eb5d1e8ff59af092a",
       "version_major": 2,
       "version_minor": 0
      },
      "text/plain": [
       "E029:   0%|          | 0/24 [00:00<?, ?it/s]"
      ]
     },
     "metadata": {},
     "output_type": "display_data"
    },
    {
     "data": {
      "application/vnd.jupyter.widget-view+json": {
       "model_id": "4820e1945d294d77b51b73ee2dc0e51c",
       "version_major": 2,
       "version_minor": 0
      },
      "text/plain": [
       "Validating:   0%|          | 0/6 [00:00<?, ?it/s]"
      ]
     },
     "metadata": {},
     "output_type": "display_data"
    },
    {
     "name": "stdout",
     "output_type": "stream",
     "text": [
      "Epoch 29: mAP@0.5 = 0.0000 | loss = 0.7630\n"
     ]
    },
    {
     "data": {
      "application/vnd.jupyter.widget-view+json": {
       "model_id": "c37d003830b9405bb2bb7be4b2c32a87",
       "version_major": 2,
       "version_minor": 0
      },
      "text/plain": [
       "E030:   0%|          | 0/24 [00:00<?, ?it/s]"
      ]
     },
     "metadata": {},
     "output_type": "display_data"
    },
    {
     "data": {
      "application/vnd.jupyter.widget-view+json": {
       "model_id": "5dda9f2786de4ba68b387576ae8e4e2c",
       "version_major": 2,
       "version_minor": 0
      },
      "text/plain": [
       "Validating:   0%|          | 0/6 [00:00<?, ?it/s]"
      ]
     },
     "metadata": {},
     "output_type": "display_data"
    },
    {
     "name": "stdout",
     "output_type": "stream",
     "text": [
      "Epoch 30: mAP@0.5 = 0.0000 | loss = 0.8530\n",
      "Updating batch-norm statistics for SWA model…\n"
     ]
    }
   ],
   "source": [
    "EPOCHS, PHASE1, PHASE2, swa_start = 30, 10, 20, 25\n",
    "SIZE1, SIZE2, SIZE3 = 512, 384, 512\n",
    "EMA_DECAY  = 0.9999\n",
    "NUM_WORKERS = 0\n",
    "\n",
    "train_ds = FrameDataset(new_train, [video_labels[p] for p in new_train],\n",
    "                        video_annotations, img_size=SIZE1, augment=True)\n",
    "val_ds   = FrameDataset(val_paths,  [video_labels[p] for p in val_paths],\n",
    "                        video_annotations, img_size=SIZE1, augment=False)\n",
    "\n",
    "pos_weight = sum(train_ds.labels)\n",
    "neg_weight = len(train_ds.labels) - pos_weight\n",
    "weights = [1/pos_weight if l else 1/neg_weight for l in train_ds.labels]\n",
    "sampler = WeightedRandomSampler(weights, len(train_ds), replacement=True)\n",
    "\n",
    "train_loader = DataLoader(train_ds, batch_size=4, sampler=sampler,\n",
    "                          num_workers=NUM_WORKERS, pin_memory=False,\n",
    "                          collate_fn=collate_fn)\n",
    "val_loader   = DataLoader(val_ds, batch_size=4, shuffle=False,\n",
    "                          num_workers=NUM_WORKERS, pin_memory=False,\n",
    "                          collate_fn=collate_fn)\n",
    "\n",
    "optimizer = torch.optim.AdamW(model.parameters(), lr=1e-3, weight_decay=1e-4)\n",
    "sched1    = torch.optim.lr_scheduler.OneCycleLR(\n",
    "              optimizer, max_lr=1e-3, epochs=PHASE1,\n",
    "              steps_per_epoch=len(train_loader), div_factor=25,\n",
    "              final_div_factor=1e4, pct_start=0.1)\n",
    "sched2    = torch.optim.lr_scheduler.CosineAnnealingWarmRestarts(\n",
    "              optimizer, T_0=20, eta_min=1e-6)\n",
    "\n",
    "\n",
    "swa_model = AveragedModel(model).to(DEVICE)         \n",
    "swa_lr    = SWALR(optimizer, swa_lr=1e-4)\n",
    "ema       = AveragedModel(model) if EMA_DECAY < .9999 else None\n",
    "metric    = MeanAveragePrecision(iou_thresholds=[0.5]).to(DEVICE)\n",
    "scaler    = GradScaler()\n",
    "best_map  = 0.0\n",
    "\n",
    "\n",
    "for epoch in range(1, EPOCHS+1):\n",
    "\n",
    "    if epoch == PHASE2 + 1:   train_loader.dataset.size = SIZE2\n",
    "    if epoch == swa_start + 1: train_loader.dataset.size = SIZE3\n",
    "\n",
    "\n",
    "    if epoch == 1:\n",
    "        for p in model.backbone.parameters(): p.requires_grad_(False)\n",
    "    if epoch == PHASE1 + 1:\n",
    "        for p in model.backbone.parameters(): p.requires_grad_(True)\n",
    "\n",
    "    \n",
    "    model.train(); tot_loss = 0.0\n",
    "    for batch_idx, (imgs, tgts) in enumerate(tqdm(train_loader, desc=f\"E{epoch:03d}\")):\n",
    "        imgs = [i.to(DEVICE) for i in imgs]\n",
    "        tgts = [{k:v.to(DEVICE) for k,v in t.items()} for t in tgts]\n",
    "\n",
    "        optimizer.zero_grad()\n",
    "        with autocast(device_type='cuda'):\n",
    "            loss = sum(model(imgs, tgts).values())\n",
    "\n",
    "        scaler.scale(loss).backward()\n",
    "        scaler.step(optimizer); scaler.update()\n",
    "\n",
    "        if epoch <= PHASE1: sched1.step()\n",
    "        elif epoch <= PHASE2: sched2.step(epoch + batch_idx/len(train_loader))\n",
    "        elif epoch >= swa_start: swa_lr.step()\n",
    "\n",
    "        if ema: update_ema(model, ema, EMA_DECAY)\n",
    "        tot_loss += loss.item()\n",
    "\n",
    "    if epoch >= swa_start: swa_model.update_parameters(model)\n",
    "\n",
    "    \n",
    "    eval_model = swa_model if epoch >= swa_start else model\n",
    "    eval_model.eval()                         \n",
    "    metric.reset()\n",
    "    with torch.no_grad():\n",
    "        for imgs, tgts in tqdm(val_loader, desc=\"Validating\"):\n",
    "            imgs = [i.to(DEVICE) for i in imgs]\n",
    "            tgts = [{k:v.to(DEVICE) for k,v in t.items()} for t in tgts]\n",
    "            preds = eval_model(imgs)\n",
    "            metric.update(preds, tgts)\n",
    "\n",
    "    map50 = metric.compute()[\"map_50\"].item()\n",
    "    print(f\"Epoch {epoch:02d}: mAP@0.5 = {map50:.4f} | loss = {tot_loss:.4f}\")\n",
    "\n",
    "    if map50 > best_map and epoch % 5 == 0:\n",
    "        best_map = map50\n",
    "        torch.save({'model': eval_model.state_dict(),\n",
    "                    'epoch': epoch, 'mAP50': map50},\n",
    "                   CKPT_DIR/'best_detector.pth')\n",
    "\n",
    "if EPOCHS >= swa_start:\n",
    "    print(\"Updating batch-norm statistics for SWA model…\")\n",
    "    update_bn(train_loader, swa_model, device=DEVICE)\n",
    "    torch.save(swa_model.state_dict(), CKPT_DIR/'swa_final.pth')\n",
    "\n"
   ]
  },
  {
   "cell_type": "code",
   "execution_count": 8,
   "metadata": {
    "colab": {
     "base_uri": "https://localhost:8080/",
     "height": 255
    },
    "id": "zJm4FLwbTAA7",
    "outputId": "ac147fef-1391-4b0c-8d21-9f2f97db6003"
   },
   "outputs": [
    {
     "name": "stdout",
     "output_type": "stream",
     "text": [
      "=== Validation Detection Metrics (current model) ===\n"
     ]
    },
    {
     "data": {
      "text/html": [
       "<style type=\"text/css\">\n",
       "#T_06976 th {\n",
       "  text-align: center;\n",
       "  font-weight: bold;\n",
       "}\n",
       "#T_06976_row0_col0, #T_06976_row0_col1, #T_06976_row1_col0, #T_06976_row1_col1, #T_06976_row2_col0, #T_06976_row2_col1, #T_06976_row3_col0, #T_06976_row3_col1, #T_06976_row4_col0, #T_06976_row4_col1, #T_06976_row5_col0, #T_06976_row5_col1 {\n",
       "  text-align: center;\n",
       "}\n",
       "</style>\n",
       "<table id=\"T_06976\" class=\"dataframe\">\n",
       "  <thead>\n",
       "    <tr>\n",
       "      <th class=\"blank level0\" >&nbsp;</th>\n",
       "      <th id=\"T_06976_level0_col0\" class=\"col_heading level0 col0\" >Metric</th>\n",
       "      <th id=\"T_06976_level0_col1\" class=\"col_heading level0 col1\" >Value</th>\n",
       "    </tr>\n",
       "  </thead>\n",
       "  <tbody>\n",
       "    <tr>\n",
       "      <th id=\"T_06976_level0_row0\" class=\"row_heading level0 row0\" >0</th>\n",
       "      <td id=\"T_06976_row0_col0\" class=\"data row0 col0\" >mAP @[0.50:0.95]</td>\n",
       "      <td id=\"T_06976_row0_col1\" class=\"data row0 col1\" >0.0000</td>\n",
       "    </tr>\n",
       "    <tr>\n",
       "      <th id=\"T_06976_level0_row1\" class=\"row_heading level0 row1\" >1</th>\n",
       "      <td id=\"T_06976_row1_col0\" class=\"data row1 col0\" >mAP @0.50</td>\n",
       "      <td id=\"T_06976_row1_col1\" class=\"data row1 col1\" >0.0000</td>\n",
       "    </tr>\n",
       "    <tr>\n",
       "      <th id=\"T_06976_level0_row2\" class=\"row_heading level0 row2\" >2</th>\n",
       "      <td id=\"T_06976_row2_col0\" class=\"data row2 col0\" >mAP @0.75</td>\n",
       "      <td id=\"T_06976_row2_col1\" class=\"data row2 col1\" >0.0000</td>\n",
       "    </tr>\n",
       "    <tr>\n",
       "      <th id=\"T_06976_level0_row3\" class=\"row_heading level0 row3\" >3</th>\n",
       "      <td id=\"T_06976_row3_col0\" class=\"data row3 col0\" >AR   @1</td>\n",
       "      <td id=\"T_06976_row3_col1\" class=\"data row3 col1\" >0.0000</td>\n",
       "    </tr>\n",
       "    <tr>\n",
       "      <th id=\"T_06976_level0_row4\" class=\"row_heading level0 row4\" >4</th>\n",
       "      <td id=\"T_06976_row4_col0\" class=\"data row4 col0\" >AR  @10</td>\n",
       "      <td id=\"T_06976_row4_col1\" class=\"data row4 col1\" >0.0000</td>\n",
       "    </tr>\n",
       "    <tr>\n",
       "      <th id=\"T_06976_level0_row5\" class=\"row_heading level0 row5\" >5</th>\n",
       "      <td id=\"T_06976_row5_col0\" class=\"data row5 col0\" >AR @100</td>\n",
       "      <td id=\"T_06976_row5_col1\" class=\"data row5 col1\" >0.0000</td>\n",
       "    </tr>\n",
       "  </tbody>\n",
       "</table>\n"
      ],
      "text/plain": [
       "<pandas.io.formats.style.Styler at 0x7fb697202950>"
      ]
     },
     "metadata": {},
     "output_type": "display_data"
    }
   ],
   "source": [
    "import torch, pandas as pd\n",
    "from torchmetrics.detection.mean_ap import MeanAveragePrecision\n",
    "\n",
    "model.eval(); model.to(DEVICE)\n",
    "\n",
    "metric_full = MeanAveragePrecision().to(DEVICE)\n",
    "\n",
    "with torch.no_grad():\n",
    "    for imgs, tgts in val_loader:\n",
    "        imgs = [i.to(DEVICE) for i in imgs]\n",
    "        tgts = [{k:v.to(DEVICE) for k,v in t.items()} for t in tgts]\n",
    "        preds = model(imgs)\n",
    "        metric_full.update(preds, tgts)\n",
    "\n",
    "results = metric_full.compute()\n",
    "\n",
    "df = pd.DataFrame({\n",
    "    'Metric': ['mAP @[0.50:0.95]', 'mAP @0.50', 'mAP @0.75',\n",
    "               'AR   @1', 'AR  @10', 'AR @100'],\n",
    "    'Value': [results['map'].item(),\n",
    "              results['map_50'].item(),\n",
    "              results['map_75'].item(),\n",
    "              results['mar_1'].item(),\n",
    "              results['mar_10'].item(),\n",
    "              results['mar_100'].item()]\n",
    "})\n",
    "\n",
    "print(\"=== Validation Detection Metrics (current model) ===\")\n",
    "display(df.style\n",
    "        .format({'Value':'{:.4f}'})\n",
    "        .set_properties(**{'text-align':'center'})\n",
    "        .set_table_styles([{'selector':'th',\n",
    "                            'props':[('text-align','center'),\n",
    "                                     ('font-weight','bold')]}]))\n"
   ]
  }
 ],
 "metadata": {
  "accelerator": "GPU",
  "colab": {
   "gpuType": "A100",
   "machine_shape": "hm",
   "provenance": []
  },
  "kernelspec": {
   "display_name": "Python 3",
   "name": "python3"
  },
  "language_info": {
   "name": "python"
  }
 },
 "nbformat": 4,
 "nbformat_minor": 0
}
